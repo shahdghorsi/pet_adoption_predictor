{
 "cells": [
  {
   "cell_type": "code",
   "execution_count": 10,
   "metadata": {
    "colab": {
     "base_uri": "https://localhost:8080/"
    },
    "id": "8dYfttm1stGj",
    "outputId": "1dc36d80-d5e4-494a-d911-94176ebb495b"
   },
   "outputs": [
    {
     "name": "stdout",
     "output_type": "stream",
     "text": [
      "Requirement already satisfied: scikit-learn in /Users/shahdghorsi/opt/anaconda3/lib/python3.8/site-packages (0.22)\n",
      "Collecting scikit-learn\n",
      "  Using cached scikit_learn-1.2.2-cp38-cp38-macosx_10_9_x86_64.whl (9.0 MB)\n",
      "Requirement already satisfied: numpy>=1.17.3 in /Users/shahdghorsi/opt/anaconda3/lib/python3.8/site-packages (from scikit-learn) (1.20.1)\n",
      "Requirement already satisfied: threadpoolctl>=2.0.0 in /Users/shahdghorsi/opt/anaconda3/lib/python3.8/site-packages (from scikit-learn) (2.1.0)\n",
      "Requirement already satisfied: scipy>=1.3.2 in /Users/shahdghorsi/opt/anaconda3/lib/python3.8/site-packages (from scikit-learn) (1.6.2)\n",
      "Requirement already satisfied: joblib>=1.1.1 in /Users/shahdghorsi/opt/anaconda3/lib/python3.8/site-packages (from scikit-learn) (1.2.0)\n",
      "Installing collected packages: scikit-learn\n",
      "  Attempting uninstall: scikit-learn\n",
      "    Found existing installation: scikit-learn 0.22\n",
      "    Uninstalling scikit-learn-0.22:\n",
      "      Successfully uninstalled scikit-learn-0.22\n",
      "Successfully installed scikit-learn-1.2.2\n",
      "\u001b[33mWARNING: You are using pip version 22.0.4; however, version 23.1.2 is available.\n",
      "You should consider upgrading via the '/Users/shahdghorsi/opt/anaconda3/bin/python -m pip install --upgrade pip' command.\u001b[0m\u001b[33m\n",
      "\u001b[0m"
     ]
    }
   ],
   "source": [
    "!pip install --upgrade scikit-learn\n"
   ]
  },
  {
   "cell_type": "code",
   "execution_count": 2,
   "metadata": {
    "id": "CU06230P2TU-"
   },
   "outputs": [],
   "source": []
  },
  {
   "cell_type": "code",
   "execution_count": 1,
   "metadata": {
    "id": "c8Nhopv7tcS1"
   },
   "outputs": [],
   "source": [
    "import pandas as pd\n",
    "import xgboost as xgb\n",
    "import numpy as np\n",
    "from imblearn.over_sampling import SMOTE\n",
    "import matplotlib.pyplot as plt\n",
    "from sklearn.preprocessing import MinMaxScaler\n",
    "from imblearn.under_sampling import RandomUnderSampler\n",
    "\n",
    "from sklearn.model_selection import train_test_split\n",
    "from sklearn.preprocessing import LabelEncoder, normalize\n",
    "from sklearn.preprocessing import StandardScaler\n",
    "from sklearn.metrics import f1_score, accuracy_score, recall_score"
   ]
  },
  {
   "cell_type": "code",
   "execution_count": 2,
   "metadata": {
    "colab": {
     "base_uri": "https://localhost:8080/",
     "height": 627
    },
    "id": "YmLrC6j4uDo_",
    "outputId": "ad9f7460-c736-4604-b461-6fd151cd1b78"
   },
   "outputs": [
    {
     "data": {
      "text/html": [
       "<div>\n",
       "<style scoped>\n",
       "    .dataframe tbody tr th:only-of-type {\n",
       "        vertical-align: middle;\n",
       "    }\n",
       "\n",
       "    .dataframe tbody tr th {\n",
       "        vertical-align: top;\n",
       "    }\n",
       "\n",
       "    .dataframe thead th {\n",
       "        text-align: right;\n",
       "    }\n",
       "</style>\n",
       "<table border=\"1\" class=\"dataframe\">\n",
       "  <thead>\n",
       "    <tr style=\"text-align: right;\">\n",
       "      <th></th>\n",
       "      <th>Type</th>\n",
       "      <th>Age</th>\n",
       "      <th>Breed1</th>\n",
       "      <th>Gender</th>\n",
       "      <th>Color1</th>\n",
       "      <th>Color2</th>\n",
       "      <th>MaturitySize</th>\n",
       "      <th>FurLength</th>\n",
       "      <th>Vaccinated</th>\n",
       "      <th>Sterilized</th>\n",
       "      <th>Health</th>\n",
       "      <th>Fee</th>\n",
       "      <th>PhotoAmt</th>\n",
       "      <th>Adopted</th>\n",
       "    </tr>\n",
       "  </thead>\n",
       "  <tbody>\n",
       "    <tr>\n",
       "      <th>0</th>\n",
       "      <td>Cat</td>\n",
       "      <td>3</td>\n",
       "      <td>Tabby</td>\n",
       "      <td>Male</td>\n",
       "      <td>Black</td>\n",
       "      <td>White</td>\n",
       "      <td>Small</td>\n",
       "      <td>Short</td>\n",
       "      <td>No</td>\n",
       "      <td>No</td>\n",
       "      <td>Healthy</td>\n",
       "      <td>100</td>\n",
       "      <td>1</td>\n",
       "      <td>Yes</td>\n",
       "    </tr>\n",
       "    <tr>\n",
       "      <th>1</th>\n",
       "      <td>Cat</td>\n",
       "      <td>1</td>\n",
       "      <td>Domestic Medium Hair</td>\n",
       "      <td>Male</td>\n",
       "      <td>Black</td>\n",
       "      <td>Brown</td>\n",
       "      <td>Medium</td>\n",
       "      <td>Medium</td>\n",
       "      <td>Not Sure</td>\n",
       "      <td>Not Sure</td>\n",
       "      <td>Healthy</td>\n",
       "      <td>0</td>\n",
       "      <td>2</td>\n",
       "      <td>Yes</td>\n",
       "    </tr>\n",
       "    <tr>\n",
       "      <th>2</th>\n",
       "      <td>Dog</td>\n",
       "      <td>1</td>\n",
       "      <td>Mixed Breed</td>\n",
       "      <td>Male</td>\n",
       "      <td>Brown</td>\n",
       "      <td>White</td>\n",
       "      <td>Medium</td>\n",
       "      <td>Medium</td>\n",
       "      <td>Yes</td>\n",
       "      <td>No</td>\n",
       "      <td>Healthy</td>\n",
       "      <td>0</td>\n",
       "      <td>7</td>\n",
       "      <td>Yes</td>\n",
       "    </tr>\n",
       "    <tr>\n",
       "      <th>3</th>\n",
       "      <td>Dog</td>\n",
       "      <td>4</td>\n",
       "      <td>Mixed Breed</td>\n",
       "      <td>Female</td>\n",
       "      <td>Black</td>\n",
       "      <td>Brown</td>\n",
       "      <td>Medium</td>\n",
       "      <td>Short</td>\n",
       "      <td>Yes</td>\n",
       "      <td>No</td>\n",
       "      <td>Healthy</td>\n",
       "      <td>150</td>\n",
       "      <td>8</td>\n",
       "      <td>Yes</td>\n",
       "    </tr>\n",
       "    <tr>\n",
       "      <th>4</th>\n",
       "      <td>Dog</td>\n",
       "      <td>1</td>\n",
       "      <td>Mixed Breed</td>\n",
       "      <td>Male</td>\n",
       "      <td>Black</td>\n",
       "      <td>No Color</td>\n",
       "      <td>Medium</td>\n",
       "      <td>Short</td>\n",
       "      <td>No</td>\n",
       "      <td>No</td>\n",
       "      <td>Healthy</td>\n",
       "      <td>0</td>\n",
       "      <td>3</td>\n",
       "      <td>Yes</td>\n",
       "    </tr>\n",
       "    <tr>\n",
       "      <th>...</th>\n",
       "      <td>...</td>\n",
       "      <td>...</td>\n",
       "      <td>...</td>\n",
       "      <td>...</td>\n",
       "      <td>...</td>\n",
       "      <td>...</td>\n",
       "      <td>...</td>\n",
       "      <td>...</td>\n",
       "      <td>...</td>\n",
       "      <td>...</td>\n",
       "      <td>...</td>\n",
       "      <td>...</td>\n",
       "      <td>...</td>\n",
       "      <td>...</td>\n",
       "    </tr>\n",
       "    <tr>\n",
       "      <th>11532</th>\n",
       "      <td>Dog</td>\n",
       "      <td>24</td>\n",
       "      <td>Poodle</td>\n",
       "      <td>Male</td>\n",
       "      <td>Brown</td>\n",
       "      <td>Golden</td>\n",
       "      <td>Medium</td>\n",
       "      <td>Medium</td>\n",
       "      <td>Not Sure</td>\n",
       "      <td>No</td>\n",
       "      <td>Healthy</td>\n",
       "      <td>0</td>\n",
       "      <td>0</td>\n",
       "      <td>No</td>\n",
       "    </tr>\n",
       "    <tr>\n",
       "      <th>11533</th>\n",
       "      <td>Cat</td>\n",
       "      <td>1</td>\n",
       "      <td>Domestic Short Hair</td>\n",
       "      <td>Female</td>\n",
       "      <td>Cream</td>\n",
       "      <td>Gray</td>\n",
       "      <td>Medium</td>\n",
       "      <td>Short</td>\n",
       "      <td>No</td>\n",
       "      <td>No</td>\n",
       "      <td>Healthy</td>\n",
       "      <td>0</td>\n",
       "      <td>1</td>\n",
       "      <td>Yes</td>\n",
       "    </tr>\n",
       "    <tr>\n",
       "      <th>11534</th>\n",
       "      <td>Dog</td>\n",
       "      <td>6</td>\n",
       "      <td>Schnauzer</td>\n",
       "      <td>Female</td>\n",
       "      <td>Black</td>\n",
       "      <td>White</td>\n",
       "      <td>Small</td>\n",
       "      <td>Long</td>\n",
       "      <td>Yes</td>\n",
       "      <td>No</td>\n",
       "      <td>Healthy</td>\n",
       "      <td>0</td>\n",
       "      <td>1</td>\n",
       "      <td>Yes</td>\n",
       "    </tr>\n",
       "    <tr>\n",
       "      <th>11535</th>\n",
       "      <td>Cat</td>\n",
       "      <td>9</td>\n",
       "      <td>Domestic Short Hair</td>\n",
       "      <td>Female</td>\n",
       "      <td>Yellow</td>\n",
       "      <td>White</td>\n",
       "      <td>Small</td>\n",
       "      <td>Short</td>\n",
       "      <td>Yes</td>\n",
       "      <td>Yes</td>\n",
       "      <td>Healthy</td>\n",
       "      <td>0</td>\n",
       "      <td>3</td>\n",
       "      <td>No</td>\n",
       "    </tr>\n",
       "    <tr>\n",
       "      <th>11536</th>\n",
       "      <td>Dog</td>\n",
       "      <td>1</td>\n",
       "      <td>Mixed Breed</td>\n",
       "      <td>Male</td>\n",
       "      <td>Brown</td>\n",
       "      <td>No Color</td>\n",
       "      <td>Medium</td>\n",
       "      <td>Short</td>\n",
       "      <td>No</td>\n",
       "      <td>No</td>\n",
       "      <td>Healthy</td>\n",
       "      <td>0</td>\n",
       "      <td>1</td>\n",
       "      <td>Yes</td>\n",
       "    </tr>\n",
       "  </tbody>\n",
       "</table>\n",
       "<p>11537 rows × 14 columns</p>\n",
       "</div>"
      ],
      "text/plain": [
       "      Type  Age                Breed1  Gender  Color1    Color2 MaturitySize  \\\n",
       "0      Cat    3                 Tabby    Male   Black     White        Small   \n",
       "1      Cat    1  Domestic Medium Hair    Male   Black     Brown       Medium   \n",
       "2      Dog    1           Mixed Breed    Male   Brown     White       Medium   \n",
       "3      Dog    4           Mixed Breed  Female   Black     Brown       Medium   \n",
       "4      Dog    1           Mixed Breed    Male   Black  No Color       Medium   \n",
       "...    ...  ...                   ...     ...     ...       ...          ...   \n",
       "11532  Dog   24                Poodle    Male   Brown    Golden       Medium   \n",
       "11533  Cat    1   Domestic Short Hair  Female   Cream      Gray       Medium   \n",
       "11534  Dog    6             Schnauzer  Female   Black     White        Small   \n",
       "11535  Cat    9   Domestic Short Hair  Female  Yellow     White        Small   \n",
       "11536  Dog    1           Mixed Breed    Male   Brown  No Color       Medium   \n",
       "\n",
       "      FurLength Vaccinated Sterilized   Health  Fee  PhotoAmt Adopted  \n",
       "0         Short         No         No  Healthy  100         1     Yes  \n",
       "1        Medium   Not Sure   Not Sure  Healthy    0         2     Yes  \n",
       "2        Medium        Yes         No  Healthy    0         7     Yes  \n",
       "3         Short        Yes         No  Healthy  150         8     Yes  \n",
       "4         Short         No         No  Healthy    0         3     Yes  \n",
       "...         ...        ...        ...      ...  ...       ...     ...  \n",
       "11532    Medium   Not Sure         No  Healthy    0         0      No  \n",
       "11533     Short         No         No  Healthy    0         1     Yes  \n",
       "11534      Long        Yes         No  Healthy    0         1     Yes  \n",
       "11535     Short        Yes        Yes  Healthy    0         3      No  \n",
       "11536     Short         No         No  Healthy    0         1     Yes  \n",
       "\n",
       "[11537 rows x 14 columns]"
      ]
     },
     "execution_count": 2,
     "metadata": {},
     "output_type": "execute_result"
    }
   ],
   "source": [
    "# Step 1: Read the input data and load it into a Pandas DataFrame\n",
    "data_url = \"gs://cloud-samples-data/ai-platform-unified/datasets/tabular/petfinder-tabular-classification.csv\"\n",
    "df = pd.read_csv(data_url)\n",
    "df"
   ]
  },
  {
   "cell_type": "markdown",
   "metadata": {
    "id": "QhcxJ_5O5fBY"
   },
   "source": [
    "Exploratory data analysis (EDA)"
   ]
  },
  {
   "cell_type": "code",
   "execution_count": 5,
   "metadata": {
    "colab": {
     "base_uri": "https://localhost:8080/"
    },
    "id": "qQ4HomKc5pCC",
    "outputId": "75b58cae-dc6d-4501-bc99-158b8f61abe4"
   },
   "outputs": [
    {
     "name": "stdout",
     "output_type": "stream",
     "text": [
      "  Type  Age                Breed1  Gender Color1    Color2 MaturitySize  \\\n",
      "0  Cat    3                 Tabby    Male  Black     White        Small   \n",
      "1  Cat    1  Domestic Medium Hair    Male  Black     Brown       Medium   \n",
      "2  Dog    1           Mixed Breed    Male  Brown     White       Medium   \n",
      "3  Dog    4           Mixed Breed  Female  Black     Brown       Medium   \n",
      "4  Dog    1           Mixed Breed    Male  Black  No Color       Medium   \n",
      "\n",
      "  FurLength Vaccinated Sterilized   Health  Fee  PhotoAmt Adopted  \n",
      "0     Short         No         No  Healthy  100         1     Yes  \n",
      "1    Medium   Not Sure   Not Sure  Healthy    0         2     Yes  \n",
      "2    Medium        Yes         No  Healthy    0         7     Yes  \n",
      "3     Short        Yes         No  Healthy  150         8     Yes  \n",
      "4     Short         No         No  Healthy    0         3     Yes  \n",
      "*****************************************************************************************\n",
      "                Age           Fee      PhotoAmt\n",
      "count  11537.000000  11537.000000  11537.000000\n",
      "mean      11.743434     23.957268      3.610211\n",
      "std       19.324221     80.024226      3.145872\n",
      "min        0.000000      0.000000      0.000000\n",
      "25%        2.000000      0.000000      2.000000\n",
      "50%        4.000000      0.000000      3.000000\n",
      "75%       12.000000      0.000000      5.000000\n",
      "max      255.000000   2000.000000     30.000000\n",
      "*****************************************************************************************\n",
      "Type            object\n",
      "Age              int64\n",
      "Breed1          object\n",
      "Gender          object\n",
      "Color1          object\n",
      "Color2          object\n",
      "MaturitySize    object\n",
      "FurLength       object\n",
      "Vaccinated      object\n",
      "Sterilized      object\n",
      "Health          object\n",
      "Fee              int64\n",
      "PhotoAmt         int64\n",
      "Adopted         object\n",
      "dtype: object\n",
      "*****************************************************************************************\n",
      "(11537, 14)\n",
      "*****************************************************************************************\n",
      "<bound method DataFrame.info of       Type  Age                Breed1  Gender  Color1    Color2 MaturitySize  \\\n",
      "0      Cat    3                 Tabby    Male   Black     White        Small   \n",
      "1      Cat    1  Domestic Medium Hair    Male   Black     Brown       Medium   \n",
      "2      Dog    1           Mixed Breed    Male   Brown     White       Medium   \n",
      "3      Dog    4           Mixed Breed  Female   Black     Brown       Medium   \n",
      "4      Dog    1           Mixed Breed    Male   Black  No Color       Medium   \n",
      "...    ...  ...                   ...     ...     ...       ...          ...   \n",
      "11532  Dog   24                Poodle    Male   Brown    Golden       Medium   \n",
      "11533  Cat    1   Domestic Short Hair  Female   Cream      Gray       Medium   \n",
      "11534  Dog    6             Schnauzer  Female   Black     White        Small   \n",
      "11535  Cat    9   Domestic Short Hair  Female  Yellow     White        Small   \n",
      "11536  Dog    1           Mixed Breed    Male   Brown  No Color       Medium   \n",
      "\n",
      "      FurLength Vaccinated Sterilized   Health  Fee  PhotoAmt Adopted  \n",
      "0         Short         No         No  Healthy  100         1     Yes  \n",
      "1        Medium   Not Sure   Not Sure  Healthy    0         2     Yes  \n",
      "2        Medium        Yes         No  Healthy    0         7     Yes  \n",
      "3         Short        Yes         No  Healthy  150         8     Yes  \n",
      "4         Short         No         No  Healthy    0         3     Yes  \n",
      "...         ...        ...        ...      ...  ...       ...     ...  \n",
      "11532    Medium   Not Sure         No  Healthy    0         0      No  \n",
      "11533     Short         No         No  Healthy    0         1     Yes  \n",
      "11534      Long        Yes         No  Healthy    0         1     Yes  \n",
      "11535     Short        Yes        Yes  Healthy    0         3      No  \n",
      "11536     Short         No         No  Healthy    0         1     Yes  \n",
      "\n",
      "[11537 rows x 14 columns]>\n"
     ]
    }
   ],
   "source": [
    "print(df.head())\n",
    "print(\"*****************************************************************************************\")\n",
    "# Get summary statistics of numerical columns\n",
    "print(df.describe())\n",
    "print(\"*****************************************************************************************\")\n",
    "# Check the data types of columns\n",
    "print(df.dtypes)\n",
    "print(\"*****************************************************************************************\")\n",
    "# Check the dimensions of the DataFrame\n",
    "print(df.shape)\n",
    "print(\"*****************************************************************************************\")\n",
    "print(df.info)\n"
   ]
  },
  {
   "cell_type": "markdown",
   "metadata": {
    "id": "CIANTsIO8lVA"
   },
   "source": [
    "Looking at the data, I need to preform some pre-processing:\n",
    "*   Encoding the bread, gender, color1, color2, maturaty size, FurLength Vaccinated, Sterilized,   Health, Adopted.\n",
    "*   Standarise the Age, Fee, PhotoAmt.\n",
    "*   Handling missing data like (not sure for vacinated, sterilized)\n",
    "Color2: should be normalised by randomly filling (how important it is though? there are 4k missing)\n",
    "*   Remove duplicates\n",
    "\n",
    "\n",
    "\n",
    "\n",
    "\n",
    "\n"
   ]
  },
  {
   "cell_type": "code",
   "execution_count": 6,
   "metadata": {
    "colab": {
     "base_uri": "https://localhost:8080/",
     "height": 998
    },
    "id": "b7B-6t9uI0hC",
    "outputId": "01faad4f-b9bc-499a-c870-f0fe7a2ce350"
   },
   "outputs": [
    {
     "name": "stderr",
     "output_type": "stream",
     "text": [
      "<ipython-input-6-8d658174f666>:8: FutureWarning: The default value of numeric_only in DataFrame.corr is deprecated. In a future version, it will default to False. Select only valid columns or specify the value of numeric_only to silence this warning.\n",
      "  correlation_matrix = df.corr()\n"
     ]
    },
    {
     "name": "stdout",
     "output_type": "stream",
     "text": [
      "               Age       Fee  PhotoAmt\n",
      "Age       1.000000  0.086637 -0.063674\n",
      "Fee       0.086637  1.000000  0.019387\n",
      "PhotoAmt -0.063674  0.019387  1.000000\n"
     ]
    },
    {
     "data": {
      "text/plain": [
       "<Axes: >"
      ]
     },
     "execution_count": 6,
     "metadata": {},
     "output_type": "execute_result"
    },
    {
     "data": {
      "image/png": "[encoded data removed]",
      "text/plain": [
       "<Figure size 1000x1000 with 5 Axes>"
      ]
     },
     "metadata": {},
     "output_type": "display_data"
    }
   ],
   "source": [
    "# Generate histograms for numerical columns\n",
    "df.hist(figsize=(10, 10))\n",
    "\n",
    "# Create box plots to visualize distributions and detect outliers\n",
    "df.boxplot(figsize=(10, 6))\n",
    "\n",
    "# Calculate correlations between columns\n",
    "correlation_matrix = df.corr()\n",
    "print(correlation_matrix)\n",
    "\n",
    "# Visualize correlations using a heatmap\n",
    "import seaborn as sns\n",
    "sns.heatmap(correlation_matrix, annot=True)\n"
   ]
  },
  {
   "cell_type": "code",
   "execution_count": 7,
   "metadata": {
    "colab": {
     "base_uri": "https://localhost:8080/",
     "height": 319
    },
    "id": "AlZkm9h9JGm3",
    "outputId": "c4bc48d2-9e42-4594-e5be-62ad4da0a707"
   },
   "outputs": [
    {
     "data": {
      "image/png": "[encoded data removed]",
      "text/plain": [
       "<Figure size 2000x600 with 1 Axes>"
      ]
     },
     "metadata": {},
     "output_type": "display_data"
    }
   ],
   "source": [
    "# Count the occurrences of each category in a categorical column\n",
    "# Obviously imbalanced dataset (HANDLE IT)\n",
    "breed_counts = df['PhotoAmt'].value_counts()\n",
    "\n",
    "# Create a bar plot with rotated x-axis labels\n",
    "plt.figure(figsize=(20, 6))  # Adjust the figure size as needed\n",
    "ax = breed_counts.plot(kind='bar')\n",
    "ax.set_xticklabels(ax.get_xticklabels(), rotation=90)  # Rotate x-axis labels\n",
    "plt.tight_layout()  # To prevent label cutoffs\n",
    "plt.show()\n",
    "\n"
   ]
  },
  {
   "cell_type": "code",
   "execution_count": 8,
   "metadata": {
    "colab": {
     "base_uri": "https://localhost:8080/"
    },
    "id": "d6tAsEZeoS5Y",
    "outputId": "3f04b936-3e11-4cc6-c914-6465b3d2c281"
   },
   "outputs": [
    {
     "name": "stdout",
     "output_type": "stream",
     "text": [
      "Skewness: 2.894013721756597\n"
     ]
    }
   ],
   "source": [
    "skewness = df['PhotoAmt'].skew()\n",
    "print(\"Skewness:\", skewness)\n"
   ]
  },
  {
   "cell_type": "code",
   "execution_count": 9,
   "metadata": {
    "colab": {
     "base_uri": "https://localhost:8080/",
     "height": 472
    },
    "id": "giD8DtZYolG9",
    "outputId": "e9f75a12-4c58-4dbc-8948-35f363cad820"
   },
   "outputs": [
    {
     "data": {
      "image/png": "[encoded data removed]",
      "text/plain": [
       "<Figure size 640x480 with 1 Axes>"
      ]
     },
     "metadata": {},
     "output_type": "display_data"
    }
   ],
   "source": [
    "import seaborn as sns\n",
    "\n",
    "sns.kdeplot(df['PhotoAmt'])\n",
    "plt.xlabel('PhotoAmt')\n",
    "plt.ylabel('Density')\n",
    "plt.title('Density Plot of PhotoAmt')\n",
    "plt.show()\n"
   ]
  },
  {
   "cell_type": "code",
   "execution_count": 10,
   "metadata": {
    "colab": {
     "base_uri": "https://localhost:8080/",
     "height": 627
    },
    "id": "F3IDEJWSF6Rx",
    "outputId": "ebe593f8-cdb4-4872-dc6a-5aa7f18cec91"
   },
   "outputs": [
    {
     "data": {
      "text/html": [
       "\n",
       "  <div id=\"df-609dccb1-ae99-42a1-812a-c26e4ee8dadf\">\n",
       "    <div class=\"colab-df-container\">\n",
       "      <div>\n",
       "<style scoped>\n",
       "    .dataframe tbody tr th:only-of-type {\n",
       "        vertical-align: middle;\n",
       "    }\n",
       "\n",
       "    .dataframe tbody tr th {\n",
       "        vertical-align: top;\n",
       "    }\n",
       "\n",
       "    .dataframe thead th {\n",
       "        text-align: right;\n",
       "    }\n",
       "</style>\n",
       "<table border=\"1\" class=\"dataframe\">\n",
       "  <thead>\n",
       "    <tr style=\"text-align: right;\">\n",
       "      <th></th>\n",
       "      <th>Type</th>\n",
       "      <th>Age</th>\n",
       "      <th>Breed1</th>\n",
       "      <th>Gender</th>\n",
       "      <th>Color1</th>\n",
       "      <th>Color2</th>\n",
       "      <th>MaturitySize</th>\n",
       "      <th>FurLength</th>\n",
       "      <th>Vaccinated</th>\n",
       "      <th>Sterilized</th>\n",
       "      <th>Health</th>\n",
       "      <th>Fee</th>\n",
       "      <th>PhotoAmt</th>\n",
       "      <th>Adopted</th>\n",
       "    </tr>\n",
       "  </thead>\n",
       "  <tbody>\n",
       "    <tr>\n",
       "      <th>0</th>\n",
       "      <td>Cat</td>\n",
       "      <td>3</td>\n",
       "      <td>Tabby</td>\n",
       "      <td>Male</td>\n",
       "      <td>Black</td>\n",
       "      <td>White</td>\n",
       "      <td>Small</td>\n",
       "      <td>Short</td>\n",
       "      <td>No</td>\n",
       "      <td>No</td>\n",
       "      <td>Healthy</td>\n",
       "      <td>100</td>\n",
       "      <td>1</td>\n",
       "      <td>Yes</td>\n",
       "    </tr>\n",
       "    <tr>\n",
       "      <th>1</th>\n",
       "      <td>Cat</td>\n",
       "      <td>1</td>\n",
       "      <td>Domestic Medium Hair</td>\n",
       "      <td>Male</td>\n",
       "      <td>Black</td>\n",
       "      <td>Brown</td>\n",
       "      <td>Medium</td>\n",
       "      <td>Medium</td>\n",
       "      <td>Not Sure</td>\n",
       "      <td>Not Sure</td>\n",
       "      <td>Healthy</td>\n",
       "      <td>0</td>\n",
       "      <td>2</td>\n",
       "      <td>Yes</td>\n",
       "    </tr>\n",
       "    <tr>\n",
       "      <th>2</th>\n",
       "      <td>Dog</td>\n",
       "      <td>1</td>\n",
       "      <td>Mixed Breed</td>\n",
       "      <td>Male</td>\n",
       "      <td>Brown</td>\n",
       "      <td>White</td>\n",
       "      <td>Medium</td>\n",
       "      <td>Medium</td>\n",
       "      <td>Yes</td>\n",
       "      <td>No</td>\n",
       "      <td>Healthy</td>\n",
       "      <td>0</td>\n",
       "      <td>7</td>\n",
       "      <td>Yes</td>\n",
       "    </tr>\n",
       "    <tr>\n",
       "      <th>3</th>\n",
       "      <td>Dog</td>\n",
       "      <td>4</td>\n",
       "      <td>Mixed Breed</td>\n",
       "      <td>Female</td>\n",
       "      <td>Black</td>\n",
       "      <td>Brown</td>\n",
       "      <td>Medium</td>\n",
       "      <td>Short</td>\n",
       "      <td>Yes</td>\n",
       "      <td>No</td>\n",
       "      <td>Healthy</td>\n",
       "      <td>150</td>\n",
       "      <td>8</td>\n",
       "      <td>Yes</td>\n",
       "    </tr>\n",
       "    <tr>\n",
       "      <th>4</th>\n",
       "      <td>Dog</td>\n",
       "      <td>1</td>\n",
       "      <td>Mixed Breed</td>\n",
       "      <td>Male</td>\n",
       "      <td>Black</td>\n",
       "      <td>No Color</td>\n",
       "      <td>Medium</td>\n",
       "      <td>Short</td>\n",
       "      <td>No</td>\n",
       "      <td>No</td>\n",
       "      <td>Healthy</td>\n",
       "      <td>0</td>\n",
       "      <td>3</td>\n",
       "      <td>Yes</td>\n",
       "    </tr>\n",
       "    <tr>\n",
       "      <th>...</th>\n",
       "      <td>...</td>\n",
       "      <td>...</td>\n",
       "      <td>...</td>\n",
       "      <td>...</td>\n",
       "      <td>...</td>\n",
       "      <td>...</td>\n",
       "      <td>...</td>\n",
       "      <td>...</td>\n",
       "      <td>...</td>\n",
       "      <td>...</td>\n",
       "      <td>...</td>\n",
       "      <td>...</td>\n",
       "      <td>...</td>\n",
       "      <td>...</td>\n",
       "    </tr>\n",
       "    <tr>\n",
       "      <th>11532</th>\n",
       "      <td>Dog</td>\n",
       "      <td>24</td>\n",
       "      <td>Poodle</td>\n",
       "      <td>Male</td>\n",
       "      <td>Brown</td>\n",
       "      <td>Golden</td>\n",
       "      <td>Medium</td>\n",
       "      <td>Medium</td>\n",
       "      <td>Not Sure</td>\n",
       "      <td>No</td>\n",
       "      <td>Healthy</td>\n",
       "      <td>0</td>\n",
       "      <td>0</td>\n",
       "      <td>No</td>\n",
       "    </tr>\n",
       "    <tr>\n",
       "      <th>11533</th>\n",
       "      <td>Cat</td>\n",
       "      <td>1</td>\n",
       "      <td>Domestic Short Hair</td>\n",
       "      <td>Female</td>\n",
       "      <td>Cream</td>\n",
       "      <td>Gray</td>\n",
       "      <td>Medium</td>\n",
       "      <td>Short</td>\n",
       "      <td>No</td>\n",
       "      <td>No</td>\n",
       "      <td>Healthy</td>\n",
       "      <td>0</td>\n",
       "      <td>1</td>\n",
       "      <td>Yes</td>\n",
       "    </tr>\n",
       "    <tr>\n",
       "      <th>11534</th>\n",
       "      <td>Dog</td>\n",
       "      <td>6</td>\n",
       "      <td>Schnauzer</td>\n",
       "      <td>Female</td>\n",
       "      <td>Black</td>\n",
       "      <td>White</td>\n",
       "      <td>Small</td>\n",
       "      <td>Long</td>\n",
       "      <td>Yes</td>\n",
       "      <td>No</td>\n",
       "      <td>Healthy</td>\n",
       "      <td>0</td>\n",
       "      <td>1</td>\n",
       "      <td>Yes</td>\n",
       "    </tr>\n",
       "    <tr>\n",
       "      <th>11535</th>\n",
       "      <td>Cat</td>\n",
       "      <td>9</td>\n",
       "      <td>Domestic Short Hair</td>\n",
       "      <td>Female</td>\n",
       "      <td>Yellow</td>\n",
       "      <td>White</td>\n",
       "      <td>Small</td>\n",
       "      <td>Short</td>\n",
       "      <td>Yes</td>\n",
       "      <td>Yes</td>\n",
       "      <td>Healthy</td>\n",
       "      <td>0</td>\n",
       "      <td>3</td>\n",
       "      <td>No</td>\n",
       "    </tr>\n",
       "    <tr>\n",
       "      <th>11536</th>\n",
       "      <td>Dog</td>\n",
       "      <td>1</td>\n",
       "      <td>Mixed Breed</td>\n",
       "      <td>Male</td>\n",
       "      <td>Brown</td>\n",
       "      <td>No Color</td>\n",
       "      <td>Medium</td>\n",
       "      <td>Short</td>\n",
       "      <td>No</td>\n",
       "      <td>No</td>\n",
       "      <td>Healthy</td>\n",
       "      <td>0</td>\n",
       "      <td>1</td>\n",
       "      <td>Yes</td>\n",
       "    </tr>\n",
       "  </tbody>\n",
       "</table>\n",
       "<p>11537 rows × 14 columns</p>\n",
       "</div>\n",
       "      <button class=\"colab-df-convert\" onclick=\"convertToInteractive('df-609dccb1-ae99-42a1-812a-c26e4ee8dadf')\"\n",
       "              title=\"Convert this dataframe to an interactive table.\"\n",
       "              style=\"display:none;\">\n",
       "        \n",
       "  <svg xmlns=\"http://www.w3.org/2000/svg\" height=\"24px\"viewBox=\"0 0 24 24\"\n",
       "       width=\"24px\">\n",
       "    <path d=\"M0 0h24v24H0V0z\" fill=\"none\"/>\n",
       "    <path d=\"M18.56 5.44l.94 2.06.94-2.06 2.06-.94-2.06-.94-.94-2.06-.94 2.06-2.06.94zm-11 1L8.5 8.5l.94-2.06 2.06-.94-2.06-.94L8.5 2.5l-.94 2.06-2.06.94zm10 10l.94 2.06.94-2.06 2.06-.94-2.06-.94-.94-2.06-.94 2.06-2.06.94z\"/><path d=\"M17.41 7.96l-1.37-1.37c-.4-.4-.92-.59-1.43-.59-.52 0-1.04.2-1.43.59L10.3 9.45l-7.72 7.72c-.78.78-.78 2.05 0 2.83L4 21.41c.39.39.9.59 1.41.59.51 0 1.02-.2 1.41-.59l7.78-7.78 2.81-2.81c.8-.78.8-2.07 0-2.86zM5.41 20L4 18.59l7.72-7.72 1.47 1.35L5.41 20z\"/>\n",
       "  </svg>\n",
       "      </button>\n",
       "      \n",
       "  <style>\n",
       "    .colab-df-container {\n",
       "      display:flex;\n",
       "      flex-wrap:wrap;\n",
       "      gap: 12px;\n",
       "    }\n",
       "\n",
       "    .colab-df-convert {\n",
       "      background-color: #E8F0FE;\n",
       "      border: none;\n",
       "      border-radius: 50%;\n",
       "      cursor: pointer;\n",
       "      display: none;\n",
       "      fill: #1967D2;\n",
       "      height: 32px;\n",
       "      padding: 0 0 0 0;\n",
       "      width: 32px;\n",
       "    }\n",
       "\n",
       "    .colab-df-convert:hover {\n",
       "      background-color: #E2EBFA;\n",
       "      box-shadow: 0px 1px 2px rgba(60, 64, 67, 0.3), 0px 1px 3px 1px rgba(60, 64, 67, 0.15);\n",
       "      fill: #174EA6;\n",
       "    }\n",
       "\n",
       "    [theme=dark] .colab-df-convert {\n",
       "      background-color: #3B4455;\n",
       "      fill: #D2E3FC;\n",
       "    }\n",
       "\n",
       "    [theme=dark] .colab-df-convert:hover {\n",
       "      background-color: #434B5C;\n",
       "      box-shadow: 0px 1px 3px 1px rgba(0, 0, 0, 0.15);\n",
       "      filter: drop-shadow(0px 1px 2px rgba(0, 0, 0, 0.3));\n",
       "      fill: #FFFFFF;\n",
       "    }\n",
       "  </style>\n",
       "\n",
       "      <script>\n",
       "        const buttonEl =\n",
       "          document.querySelector('#df-609dccb1-ae99-42a1-812a-c26e4ee8dadf button.colab-df-convert');\n",
       "        buttonEl.style.display =\n",
       "          google.colab.kernel.accessAllowed ? 'block' : 'none';\n",
       "\n",
       "        async function convertToInteractive(key) {\n",
       "          const element = document.querySelector('#df-609dccb1-ae99-42a1-812a-c26e4ee8dadf');\n",
       "          const dataTable =\n",
       "            await google.colab.kernel.invokeFunction('convertToInteractive',\n",
       "                                                     [key], {});\n",
       "          if (!dataTable) return;\n",
       "\n",
       "          const docLinkHtml = 'Like what you see? Visit the ' +\n",
       "            '<a target=\"_blank\" href=https://colab.research.google.com/notebooks/data_table.ipynb>data table notebook</a>'\n",
       "            + ' to learn more about interactive tables.';\n",
       "          element.innerHTML = '';\n",
       "          dataTable['output_type'] = 'display_data';\n",
       "          await google.colab.output.renderOutput(dataTable, element);\n",
       "          const docLink = document.createElement('div');\n",
       "          docLink.innerHTML = docLinkHtml;\n",
       "          element.appendChild(docLink);\n",
       "        }\n",
       "      </script>\n",
       "    </div>\n",
       "  </div>\n",
       "  "
      ],
      "text/plain": [
       "      Type  Age                Breed1  Gender  Color1    Color2 MaturitySize  \\\n",
       "0      Cat    3                 Tabby    Male   Black     White        Small   \n",
       "1      Cat    1  Domestic Medium Hair    Male   Black     Brown       Medium   \n",
       "2      Dog    1           Mixed Breed    Male   Brown     White       Medium   \n",
       "3      Dog    4           Mixed Breed  Female   Black     Brown       Medium   \n",
       "4      Dog    1           Mixed Breed    Male   Black  No Color       Medium   \n",
       "...    ...  ...                   ...     ...     ...       ...          ...   \n",
       "11532  Dog   24                Poodle    Male   Brown    Golden       Medium   \n",
       "11533  Cat    1   Domestic Short Hair  Female   Cream      Gray       Medium   \n",
       "11534  Dog    6             Schnauzer  Female   Black     White        Small   \n",
       "11535  Cat    9   Domestic Short Hair  Female  Yellow     White        Small   \n",
       "11536  Dog    1           Mixed Breed    Male   Brown  No Color       Medium   \n",
       "\n",
       "      FurLength Vaccinated Sterilized   Health  Fee  PhotoAmt Adopted  \n",
       "0         Short         No         No  Healthy  100         1     Yes  \n",
       "1        Medium   Not Sure   Not Sure  Healthy    0         2     Yes  \n",
       "2        Medium        Yes         No  Healthy    0         7     Yes  \n",
       "3         Short        Yes         No  Healthy  150         8     Yes  \n",
       "4         Short         No         No  Healthy    0         3     Yes  \n",
       "...         ...        ...        ...      ...  ...       ...     ...  \n",
       "11532    Medium   Not Sure         No  Healthy    0         0      No  \n",
       "11533     Short         No         No  Healthy    0         1     Yes  \n",
       "11534      Long        Yes         No  Healthy    0         1     Yes  \n",
       "11535     Short        Yes        Yes  Healthy    0         3      No  \n",
       "11536     Short         No         No  Healthy    0         1     Yes  \n",
       "\n",
       "[11537 rows x 14 columns]"
      ]
     },
     "execution_count": 10,
     "metadata": {},
     "output_type": "execute_result"
    }
   ],
   "source": [
    "df"
   ]
  },
  {
   "cell_type": "markdown",
   "metadata": {
    "id": "bBvU4YJUuTjg"
   },
   "source": [
    "Check the sanity of the normalization. Calculate the mean and standard deviation of the normalized \"Age\" values and check if they are close to zero and one, respectively:"
   ]
  },
  {
   "cell_type": "code",
   "execution_count": 11,
   "metadata": {
    "id": "OA4HCxzdkEcn"
   },
   "outputs": [],
   "source": [
    "def preprocess_csv(data_frame):\n",
    "  # Replace \"Not Sure\" values with \"None\" in the 'Vaccinated' column\n",
    "  data_frame['Vaccinated'].replace('Not Sure', 'None', inplace=True)\n",
    "  data_frame['Sterilized'].replace('Not Sure', 'None', inplace=True)\n",
    "  # Drop rows with missing values and the string \"None\" in any column\n",
    "  data_frame = data_frame[~data_frame.isin(['None']).any(axis=1)]\n",
    "  # Drop the Color2, mostly missing and it doesn't play a crucial role in the prediction\n",
    "  data_frame.drop('Color2', axis=1, inplace=True)\n",
    "\n",
    "  label_encoder = LabelEncoder()\n",
    "  data_frame[\"Adopted\"] = label_encoder.fit_transform(data_frame[\"Adopted\"])\n",
    "\n",
    "  # Step 3: Encode categorical data\n",
    "  categorical_features = [\"Type\", \"Breed1\", \"Gender\", \"Color1\", \"MaturitySize\", \"FurLength\",\n",
    "                          \"Vaccinated\", \"Sterilized\", \"Health\"]\n",
    "  encoded_df = pd.get_dummies(data_frame, columns=categorical_features)\n",
    "  encoded_df = encoded_df.astype(int)  # Convert encoded features to int\n",
    "\n",
    "\n",
    "  #Remove outliers then normalise\n",
    "  feature_age = encoded_df['Age']\n",
    "  mean_age = np.mean(feature_age)\n",
    "  std_age = np.std(feature_age)\n",
    "  print(mean_age,std_age )\n",
    "  # Set the threshold for outliers (e.g., 3 standard deviations)\n",
    "  threshold = 3\n",
    "  outliers_age = feature_age[(feature_age - mean_age) > threshold * std_age]\n",
    "  # Remove outliers from the dataset\n",
    "  encoded_df = encoded_df[~encoded_df['Age'].isin(outliers_age)]\n",
    "\n",
    "  #Remove outliers then normalise\n",
    "  feature_ph = encoded_df['PhotoAmt']\n",
    "  mean_ph = np.mean(feature_ph)\n",
    "  std_ph = np.std(feature_ph)\n",
    "  print(mean_ph,std_ph )\n",
    "  # Set the threshold for outliers (e.g., 3 standard deviations)\n",
    "\n",
    "  outliers_ph = feature_ph[(feature_ph - mean_ph) > threshold * std_ph]\n",
    "  # Remove outliers from the dataset\n",
    "  encoded_df = encoded_df[~encoded_df['PhotoAmt'].isin(outliers_ph)]\n",
    "\n",
    "  scaler = MinMaxScaler()\n",
    "  normalized_age = scaler.fit_transform(encoded_df['Age'].values.reshape(-1, 1))\n",
    "  encoded_df['Age'] = normalized_age\n",
    "\n",
    "  normalized_ph = scaler.fit_transform(encoded_df['PhotoAmt'].values.reshape(-1, 1))\n",
    "  encoded_df['PhotoAmt'] = normalized_ph\n",
    "\n",
    "  # Step 4: Split the dataset into train, validation, and test sets\n",
    "  features = encoded_df.columns.drop(\"Adopted\")\n",
    "  target = encoded_df[\"Adopted\"]\n",
    "  return features, target, encoded_df"
   ]
  },
  {
   "cell_type": "code",
   "execution_count": 12,
   "metadata": {
    "colab": {
     "base_uri": "https://localhost:8080/"
    },
    "id": "T_diB6pV36dY",
    "outputId": "6cfa9938-5a68-43d8-f879-ced668c327a0"
   },
   "outputs": [
    {
     "name": "stdout",
     "output_type": "stream",
     "text": [
      "10.60718789407314 17.79262540329316\n",
      "3.7696289905090596 3.3005530611492278\n"
     ]
    },
    {
     "name": "stderr",
     "output_type": "stream",
     "text": [
      "<ipython-input-11-e3e143d67438>:8: SettingWithCopyWarning: \n",
      "A value is trying to be set on a copy of a slice from a DataFrame\n",
      "\n",
      "See the caveats in the documentation: https://pandas.pydata.org/pandas-docs/stable/user_guide/indexing.html#returning-a-view-versus-a-copy\n",
      "  data_frame.drop('Color2', axis=1, inplace=True)\n",
      "<ipython-input-11-e3e143d67438>:11: SettingWithCopyWarning: \n",
      "A value is trying to be set on a copy of a slice from a DataFrame.\n",
      "Try using .loc[row_indexer,col_indexer] = value instead\n",
      "\n",
      "See the caveats in the documentation: https://pandas.pydata.org/pandas-docs/stable/user_guide/indexing.html#returning-a-view-versus-a-copy\n",
      "  data_frame[\"Adopted\"] = label_encoder.fit_transform(data_frame[\"Adopted\"])\n"
     ]
    }
   ],
   "source": [
    "# Step 2: Split the dataset into train, validation, and test sets\n",
    "\n",
    "features, target, encoded_df = preprocess_csv(df)\n",
    "X_train, X_test, y_train, y_test = train_test_split(encoded_df[features], target, test_size=0.2, random_state=42)\n",
    "X_train, X_val, y_train, y_val = train_test_split(X_train, y_train, test_size=0.25, random_state=42)"
   ]
  },
  {
   "cell_type": "code",
   "execution_count": 13,
   "metadata": {
    "id": "oGmW7DwRa9Qn"
   },
   "outputs": [],
   "source": [
    "# Step 3: Perform SMOTE resampling on the training set only\n",
    "smote = SMOTE()\n",
    "X_train_resampled, y_train_resampled = smote.fit_resample(X_train, y_train)\n"
   ]
  },
  {
   "cell_type": "code",
   "execution_count": 17,
   "metadata": {
    "colab": {
     "base_uri": "https://localhost:8080/"
    },
    "id": "uZxVkg9gfaoL",
    "outputId": "e744b6b9-5582-49af-e55b-146467a563cd"
   },
   "outputs": [
    {
     "name": "stdout",
     "output_type": "stream",
     "text": [
      "0    1459\n",
      "1    1459\n",
      "Name: Adopted, dtype: int64\n"
     ]
    }
   ],
   "source": [
    "# TRYING Step 3: Perform down-sampling on the least dominant class\n",
    "##rus = RandomUnderSampler(sampling_strategy='auto')\n",
    "#X_train_resampled, y_train_resampled = rus.fit_resample(X_train, y_train)\n",
    "\n",
    "# Get the new count of the \"Adopted\" column after down-sampling\n",
    "#adopted_count = pd.Series(y_train_resampled).value_counts()\n",
    "#print(adopted_count)"
   ]
  },
  {
   "cell_type": "code",
   "execution_count": 14,
   "metadata": {
    "colab": {
     "base_uri": "https://localhost:8080/",
     "height": 472
    },
    "id": "N9lOjTKfb8HI",
    "outputId": "a7d4bd70-2707-4126-e2f5-66f57af1576f"
   },
   "outputs": [
    {
     "data": {
      "image/png": "[encoded data removed]",
      "text/plain": [
       "<Figure size 640x480 with 1 Axes>"
      ]
     },
     "metadata": {},
     "output_type": "display_data"
    }
   ],
   "source": [
    "\n",
    "# Create a countplot to visualize the class distribution\n",
    "sns.countplot(x=y_train_resampled)\n",
    "plt.xlabel(\"Adopted\")\n",
    "plt.ylabel(\"Count\")\n",
    "plt.title(\"Class Distribution\")\n",
    "plt.show()\n"
   ]
  },
  {
   "cell_type": "code",
   "execution_count": 15,
   "metadata": {
    "colab": {
     "base_uri": "https://localhost:8080/"
    },
    "id": "Xq0woQZU4Dyx",
    "outputId": "7557caa7-1829-4774-edd3-392b57f67139"
   },
   "outputs": [
    {
     "name": "stdout",
     "output_type": "stream",
     "text": [
      "[0]\tvalidation-logloss:0.62393\n",
      "[1]\tvalidation-logloss:0.59037\n",
      "[2]\tvalidation-logloss:0.56513\n",
      "[3]\tvalidation-logloss:0.55345\n",
      "[4]\tvalidation-logloss:0.54305\n",
      "[5]\tvalidation-logloss:0.53382\n",
      "[6]\tvalidation-logloss:0.52703\n",
      "[7]\tvalidation-logloss:0.52291\n",
      "[8]\tvalidation-logloss:0.51497\n",
      "[9]\tvalidation-logloss:0.51154\n",
      "[10]\tvalidation-logloss:0.51003\n",
      "[11]\tvalidation-logloss:0.50892\n",
      "[12]\tvalidation-logloss:0.50511\n",
      "[13]\tvalidation-logloss:0.50282\n",
      "[14]\tvalidation-logloss:0.50227\n",
      "[15]\tvalidation-logloss:0.50218\n",
      "[16]\tvalidation-logloss:0.50129\n",
      "[17]\tvalidation-logloss:0.49987\n",
      "[18]\tvalidation-logloss:0.49728\n",
      "[19]\tvalidation-logloss:0.49712\n",
      "[20]\tvalidation-logloss:0.49721\n",
      "[21]\tvalidation-logloss:0.49711\n",
      "[22]\tvalidation-logloss:0.49667\n",
      "[23]\tvalidation-logloss:0.49641\n",
      "[24]\tvalidation-logloss:0.49624\n",
      "[25]\tvalidation-logloss:0.49719\n",
      "[26]\tvalidation-logloss:0.49711\n",
      "[27]\tvalidation-logloss:0.49702\n",
      "[28]\tvalidation-logloss:0.49794\n",
      "[29]\tvalidation-logloss:0.49837\n",
      "[30]\tvalidation-logloss:0.49877\n",
      "[31]\tvalidation-logloss:0.49911\n",
      "[32]\tvalidation-logloss:0.49983\n",
      "[33]\tvalidation-logloss:0.49974\n"
     ]
    }
   ],
   "source": [
    "\n",
    "# Step 5: Train an XGBoost model with early stopping using the resampled training set\n",
    "dtrain = xgb.DMatrix(X_train_resampled, label=y_train_resampled)\n",
    "dval = xgb.DMatrix(X_val, label=y_val)\n",
    "\n",
    "\n",
    "params = {\n",
    "    \"objective\": \"binary:logistic\",\n",
    "    \"eval_metric\": \"logloss\",\n",
    "    \"eta\": 0.3,\n",
    "    \"max_depth\": 7\n",
    "}\n",
    "\n",
    "model = xgb.train(params, dtrain, num_boost_round=1000, early_stopping_rounds=10, evals=[(dval, \"validation\")])\n",
    "\n"
   ]
  },
  {
   "cell_type": "code",
   "execution_count": 16,
   "metadata": {
    "id": "jBTjQSyp4Ko9"
   },
   "outputs": [],
   "source": [
    "# Step 6: Evaluate the model on the test set\n",
    "dtest = xgb.DMatrix(X_test)\n",
    "y_pred = model.predict(dtest)\n",
    "y_pred_binary = [1 if p >= 0.5 else 0 for p in y_pred]\n",
    "\n",
    "f1 = f1_score(y_test, y_pred_binary)\n",
    "accuracy = accuracy_score(y_test, y_pred_binary)\n",
    "recall = recall_score(y_test, y_pred_binary)\n"
   ]
  },
  {
   "cell_type": "code",
   "execution_count": 17,
   "metadata": {
    "colab": {
     "base_uri": "https://localhost:8080/"
    },
    "id": "Tq9N6jDoLs38",
    "outputId": "09ad3574-5465-4e22-bd27-25f003b572ee"
   },
   "outputs": [
    {
     "name": "stdout",
     "output_type": "stream",
     "text": [
      "F1 Score: 0.8339324227174694\n",
      "Accuracy: 0.7458745874587459\n",
      "Recall: 0.852314474650992\n"
     ]
    }
   ],
   "source": [
    "# Logging the performance metrics\n",
    "print(\"F1 Score:\", f1)\n",
    "print(\"Accuracy:\", accuracy)\n",
    "print(\"Recall:\", recall)"
   ]
  },
  {
   "cell_type": "markdown",
   "metadata": {
    "id": "FDBm7UFreMH2"
   },
   "source": [
    "SMOTE:\n",
    "* F1 Score: 0.8310249307479225\n",
    "* Accuracy: 0.7436974789915967\n",
    "* Recall: 0.847457627118644\n",
    "\n",
    "Downsampling:\n",
    "* F1 Score: 0.7745173745173746\n",
    "* Accuracy: 0.6932773109243697\n",
    "* Recall: 0.7083333333333334\n",
    "\n",
    "Normalised age:\n",
    "* F1 Score: 0.8345575376005596\n",
    "* Accuracy: 0.7515756302521008\n",
    "* Recall: 0.8425141242937854\n",
    "\n",
    "Normalised Age and PhotoAmt:\n",
    "* F1 Score: 0.8386873920552678\n",
    "* Accuracy: 0.7547268907563025\n",
    "* Recall: 0.8573446327683616\n",
    "\n",
    "Dropped Fee:\n",
    "* F1 Score: 0.834257975034674\n",
    "* Accuracy: 0.7489495798319328\n",
    "* Recall: 0.8495762711864406\n",
    "\n",
    "Normalised Fee:\n",
    "* F1 Score: 0.8326983027364047\n",
    "* Accuracy: 0.7463235294117647\n",
    "* Recall: 0.8488700564971752\n",
    "\n",
    "Removed age outliers and normalized:\n",
    "* F1 Score: 0.8434752022511431\n",
    "* Accuracy: 0.7601078167115903\n",
    "* Recall: 0.8594982078853046\n",
    "\n",
    "Removed photAmt outliers and normalized\n",
    "* F1 Score: 0.8458806818181819\n",
    "* Accuracy: 0.7612761276127613\n",
    "* Recall: 0.8750918442321822\n",
    "\n",
    "\n",
    "\n",
    "\n"
   ]
  },
  {
   "cell_type": "code",
   "execution_count": 27,
   "metadata": {
    "colab": {
     "base_uri": "https://localhost:8080/"
    },
    "id": "L-8Th2WPNHD2",
    "outputId": "0e2fae64-a4e6-4a53-d396-7a3f26e17dec"
   },
   "outputs": [
    {
     "name": "stdout",
     "output_type": "stream",
     "text": [
      "/content\n"
     ]
    }
   ],
   "source": [
    "!pwd"
   ]
  },
  {
   "cell_type": "code",
   "execution_count": 18,
   "metadata": {
    "id": "nZBh4mWwNFn1"
   },
   "outputs": [],
   "source": [
    "# Save the model\n",
    "model.save_model(\"artifacts/model.xgb\")\n"
   ]
  },
  {
   "cell_type": "markdown",
   "metadata": {
    "id": "U4g5wCBFtOp2"
   },
   "source": [
    "## Task 2\n",
    "\n",
    "Write a Python script to:\n",
    "\n",
    "1. Load the data\n",
    "   from\n",
    "```shell\n",
    "gs://cloud-samples-data/ai-platform-unified/datasets/tabular/petfinder-tabular-classification.csv\n",
    "```\n",
    "2. Uses the model you trained in the previous step to score all the rows in the CSV.\n",
    "3. Save the output into `output/results.csv` and make sure all files in the `output/` directory <b>are</b> git ignored.\n",
    "4. Add unit tests to the prediction function.\n",
    "\n",
    "The output needs to follow the following format:\n",
    "\n",
    "```csv\n",
    "Type,Age,Breed1,Gender,Color1,Color2,MaturitySize,FurLength,Vaccinated,Sterilized,Health,Fee,PhotoAmt,Adopted,Adopted_prediction\n",
    "Cat,3,Tabby,Male,Black,White,Small,Short,No,No,Healthy,100,1,Yes, No"
   ]
  },
  {
   "cell_type": "code",
   "execution_count": 25,
   "metadata": {
    "colab": {
     "base_uri": "https://localhost:8080/"
    },
    "id": "bU-p0S6KtSfi",
    "outputId": "c510a1d8-5da9-4a77-edc3-e75b9e38b2dc"
   },
   "outputs": [
    {
     "name": "stderr",
     "output_type": "stream",
     "text": [
      "<ipython-input-11-e3e143d67438>:8: SettingWithCopyWarning: \n",
      "A value is trying to be set on a copy of a slice from a DataFrame\n",
      "\n",
      "See the caveats in the documentation: https://pandas.pydata.org/pandas-docs/stable/user_guide/indexing.html#returning-a-view-versus-a-copy\n",
      "  data_frame.drop('Color2', axis=1, inplace=True)\n",
      "<ipython-input-11-e3e143d67438>:11: SettingWithCopyWarning: \n",
      "A value is trying to be set on a copy of a slice from a DataFrame.\n",
      "Try using .loc[row_indexer,col_indexer] = value instead\n",
      "\n",
      "See the caveats in the documentation: https://pandas.pydata.org/pandas-docs/stable/user_guide/indexing.html#returning-a-view-versus-a-copy\n",
      "  data_frame[\"Adopted\"] = label_encoder.fit_transform(data_frame[\"Adopted\"])\n"
     ]
    },
    {
     "name": "stdout",
     "output_type": "stream",
     "text": [
      "10.60718789407314 17.79262540329316\n",
      "3.7696289905090596 3.3005530611492278\n"
     ]
    }
   ],
   "source": [
    "import pandas as pd\n",
    "import xgboost as xgb\n",
    "from sklearn.preprocessing import MinMaxScaler, LabelEncoder\n",
    "\n",
    "# Load the data\n",
    "data_url = \"gs://cloud-samples-data/ai-platform-unified/datasets/tabular/petfinder-tabular-classification.csv\"\n",
    "df = pd.read_csv(data_url)\n",
    "\n",
    "# Load the saved model\n",
    "model = xgb.Booster()\n",
    "model.load_model(\"artifacts/model.xgb\")\n",
    "\n",
    "# Preprocess the data\n",
    "target, features, encoded_df = preprocess_csv(df)\n",
    "encoded_df.drop('Adopted', axis=1, inplace=True)\n",
    "dtest = xgb.DMatrix(encoded_df)\n",
    "\n",
    "\n",
    "'''df[\"Adopted_prediction\"] = model.predict(dtest)\n",
    "#df[\"Adopted_prediction\"] = (df[\"Adopted_prediction\"] >= 0.5).astype(int)\n",
    "#df[\"Adopted_prediction\"] = df[\"Adopted_prediction\"].map({0: \"No\", 1: \"Yes\"})\n",
    "\n",
    "# Save the output\n",
    "output_path = \"output/results.csv\"\n",
    "df.to_csv(output_path, index=False)\n",
    "\n",
    "print(\"Output saved to:\", output_path)'''\n",
    "\n",
    "predictions = model.predict(dtest)\n",
    "\n",
    "# Create a new DataFrame for predictions\n",
    "prediction_df = pd.DataFrame(predictions, columns=[\"Adopted_prediction\"])\n",
    "\n",
    "# Map prediction probabilities to class labels\n",
    "prediction_df[\"Adopted_prediction\"] = prediction_df[\"Adopted_prediction\"].apply(lambda x: \"Yes\" if x >= 0.5 else \"No\")\n",
    "\n",
    "# Concatenate the original DataFrame and the prediction DataFrame\n",
    "output_df = pd.concat([df, prediction_df], axis=1)\n",
    "\n",
    "# Save the output\n",
    "output_path = \"output/results.csv\"\n",
    "output_df.to_csv(output_path, index=False)\n",
    "\n",
    "\n"
   ]
  },
  {
   "cell_type": "code",
   "execution_count": 27,
   "metadata": {
    "colab": {
     "base_uri": "https://localhost:8080/",
     "height": 349
    },
    "id": "yGPOxb-itBdk",
    "outputId": "44c8f412-cf7e-460f-acd2-4759cb807617"
   },
   "outputs": [
    {
     "name": "stderr",
     "output_type": "stream",
     "text": [
      "E\n",
      "======================================================================\n",
      "ERROR: /root/ (unittest.loader._FailedTest)\n",
      "----------------------------------------------------------------------\n",
      "AttributeError: module '__main__' has no attribute '/root/'\n",
      "\n",
      "----------------------------------------------------------------------\n",
      "Ran 1 test in 0.013s\n",
      "\n",
      "FAILED (errors=1)\n"
     ]
    },
    {
     "ename": "SystemExit",
     "evalue": "ignored",
     "output_type": "error",
     "traceback": [
      "An exception has occurred, use %tb to see the full traceback.\n",
      "\u001b[0;31mSystemExit\u001b[0m\u001b[0;31m:\u001b[0m True\n"
     ]
    },
    {
     "name": "stderr",
     "output_type": "stream",
     "text": [
      "/usr/local/lib/python3.10/dist-packages/IPython/core/interactiveshell.py:3561: UserWarning: To exit: use 'exit', 'quit', or Ctrl-D.\n",
      "  warn(\"To exit: use 'exit', 'quit', or Ctrl-D.\", stacklevel=1)\n"
     ]
    }
   ],
   "source": [
    "import unittest\n",
    "import pandas as pd\n",
    "import xgboost as xgb\n",
    "from sklearn.preprocessing import MinMaxScaler, LabelEncoder\n",
    "\n",
    "class PredictionTestCase(unittest.TestCase):\n",
    "    def setUp(self):\n",
    "        # Load the data\n",
    "        data_url = \"gs://cloud-samples-data/ai-platform-unified/datasets/tabular/petfinder-tabular-classification.csv\"\n",
    "        self.df = pd.read_csv(data_url)\n",
    "\n",
    "        # Load the saved model\n",
    "        self.model = xgb.Booster()\n",
    "        self.model.load_model(\"artifacts/model.xgb\")\n",
    "\n",
    "        # Preprocess the data\n",
    "        target, features, encoded_df = preprocess_csv(self.df)\n",
    "        encoded_df.drop('Adopted', axis=1, inplace=True)\n",
    "        self.dtest = xgb.DMatrix(encoded_df)\n",
    "\n",
    "    def test_prediction_accuracy(self):\n",
    "        predictions = self.model.predict(self.dtest)\n",
    "        prediction_df = pd.DataFrame(predictions, columns=[\"Adopted_prediction\"])\n",
    "        # Map prediction probabilities to class labels\n",
    "        prediction_df[\"Adopted_prediction\"] = prediction_df[\"Adopted_prediction\"].apply(lambda x: \"Yes\" if x >= 0.5 else \"No\")\n",
    "        # Concatenate the original DataFrame and the prediction DataFrame\n",
    "        output_df = pd.concat([self.df, prediction_df], axis=1)\n",
    "        accuracy = (output_df[\"Adopted\"] == output_df[\"Adopted_prediction\"]).mean()\n",
    "\n",
    "        # Assert accuracy is above a threshold\n",
    "        self.assertGreater(accuracy, 0.8)\n",
    "\n",
    "if __name__ == '__main__':\n",
    "    unittest.main()\n"
   ]
  },
  {
   "cell_type": "code",
   "execution_count": 28,
   "metadata": {
    "colab": {
     "base_uri": "https://localhost:8080/"
    },
    "id": "1MrbYbkptxDS",
    "outputId": "62d1cd2b-7520-463f-ae84-147771416ff2"
   },
   "outputs": [
    {
     "name": "stderr",
     "output_type": "stream",
     "text": [
      "<ipython-input-11-e3e143d67438>:8: SettingWithCopyWarning: \n",
      "A value is trying to be set on a copy of a slice from a DataFrame\n",
      "\n",
      "See the caveats in the documentation: https://pandas.pydata.org/pandas-docs/stable/user_guide/indexing.html#returning-a-view-versus-a-copy\n",
      "  data_frame.drop('Color2', axis=1, inplace=True)\n",
      "<ipython-input-11-e3e143d67438>:11: SettingWithCopyWarning: \n",
      "A value is trying to be set on a copy of a slice from a DataFrame.\n",
      "Try using .loc[row_indexer,col_indexer] = value instead\n",
      "\n",
      "See the caveats in the documentation: https://pandas.pydata.org/pandas-docs/stable/user_guide/indexing.html#returning-a-view-versus-a-copy\n",
      "  data_frame[\"Adopted\"] = label_encoder.fit_transform(data_frame[\"Adopted\"])\n"
     ]
    },
    {
     "name": "stdout",
     "output_type": "stream",
     "text": [
      "10.60718789407314 17.79262540329316\n",
      "3.7696289905090596 3.3005530611492278\n"
     ]
    },
    {
     "name": "stderr",
     "output_type": "stream",
     "text": [
      "F\n",
      "======================================================================\n",
      "FAIL: test_prediction_accuracy (__main__.PredictionTestCase)\n",
      "----------------------------------------------------------------------\n",
      "Traceback (most recent call last):\n",
      "  File \"<ipython-input-27-fb57b1246516>\", line 38, in test_prediction_accuracy\n",
      "    self.assertGreater(accuracy, 0.8)\n",
      "AssertionError: 0.5076709716564098 not greater than 0.8\n",
      "\n",
      "----------------------------------------------------------------------\n",
      "Ran 1 test in 0.476s\n",
      "\n",
      "FAILED (failures=1)\n"
     ]
    },
    {
     "data": {
      "text/plain": [
       "<unittest.main.TestProgram at 0x7f7dd766a320>"
      ]
     },
     "execution_count": 28,
     "metadata": {},
     "output_type": "execute_result"
    }
   ],
   "source": [
    "unittest.main(argv=[''], exit=False)\n"
   ]
  }
 ],
 "metadata": {
  "colab": {
   "provenance": []
  },
  "kernelspec": {
   "display_name": "Python 3",
   "language": "python",
   "name": "python3"
  },
  "language_info": {
   "codemirror_mode": {
    "name": "ipython",
    "version": 3
   },
   "file_extension": ".py",
   "mimetype": "text/x-python",
   "name": "python",
   "nbconvert_exporter": "python",
   "pygments_lexer": "ipython3",
   "version": "3.8.8"
  }
 },
 "nbformat": 4,
 "nbformat_minor": 1
}
