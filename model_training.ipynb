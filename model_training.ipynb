{
 "cells": [
  {
   "cell_type": "markdown",
   "metadata": {
    "id": "c8Nhopv7tcS1"
   },
   "source": [
    "import pandas as pd\n",
    "import xgboost as xgb\n",
    "import numpy as np\n",
    "from imblearn.over_sampling import SMOTE\n",
    "import matplotlib.pyplot as plt\n",
    "\n",
    "from sklearn.model_selection import train_test_split\n",
    "\n",
    "from sklearn.metrics import f1_score, accuracy_score, recall_score"
   ]
  },
  {
   "cell_type": "markdown",
   "metadata": {},
   "source": [
    "## Step 1: Read the input data and load it into a Pandas DataFrame"
   ]
  },
  {
   "cell_type": "code",
   "execution_count": 3,
   "metadata": {
    "colab": {
     "base_uri": "https://localhost:8080/",
     "height": 627
    },
    "id": "YmLrC6j4uDo_",
    "outputId": "ad9f7460-c736-4604-b461-6fd151cd1b78"
   },
   "outputs": [
    {
     "data": {
      "text/html": [
       "<div>\n",
       "<style scoped>\n",
       "    .dataframe tbody tr th:only-of-type {\n",
       "        vertical-align: middle;\n",
       "    }\n",
       "\n",
       "    .dataframe tbody tr th {\n",
       "        vertical-align: top;\n",
       "    }\n",
       "\n",
       "    .dataframe thead th {\n",
       "        text-align: right;\n",
       "    }\n",
       "</style>\n",
       "<table border=\"1\" class=\"dataframe\">\n",
       "  <thead>\n",
       "    <tr style=\"text-align: right;\">\n",
       "      <th></th>\n",
       "      <th>Type</th>\n",
       "      <th>Age</th>\n",
       "      <th>Breed1</th>\n",
       "      <th>Gender</th>\n",
       "      <th>Color1</th>\n",
       "      <th>Color2</th>\n",
       "      <th>MaturitySize</th>\n",
       "      <th>FurLength</th>\n",
       "      <th>Vaccinated</th>\n",
       "      <th>Sterilized</th>\n",
       "      <th>Health</th>\n",
       "      <th>Fee</th>\n",
       "      <th>PhotoAmt</th>\n",
       "      <th>Adopted</th>\n",
       "    </tr>\n",
       "  </thead>\n",
       "  <tbody>\n",
       "    <tr>\n",
       "      <th>0</th>\n",
       "      <td>Cat</td>\n",
       "      <td>3</td>\n",
       "      <td>Tabby</td>\n",
       "      <td>Male</td>\n",
       "      <td>Black</td>\n",
       "      <td>White</td>\n",
       "      <td>Small</td>\n",
       "      <td>Short</td>\n",
       "      <td>No</td>\n",
       "      <td>No</td>\n",
       "      <td>Healthy</td>\n",
       "      <td>100</td>\n",
       "      <td>1</td>\n",
       "      <td>Yes</td>\n",
       "    </tr>\n",
       "    <tr>\n",
       "      <th>1</th>\n",
       "      <td>Cat</td>\n",
       "      <td>1</td>\n",
       "      <td>Domestic Medium Hair</td>\n",
       "      <td>Male</td>\n",
       "      <td>Black</td>\n",
       "      <td>Brown</td>\n",
       "      <td>Medium</td>\n",
       "      <td>Medium</td>\n",
       "      <td>Not Sure</td>\n",
       "      <td>Not Sure</td>\n",
       "      <td>Healthy</td>\n",
       "      <td>0</td>\n",
       "      <td>2</td>\n",
       "      <td>Yes</td>\n",
       "    </tr>\n",
       "    <tr>\n",
       "      <th>2</th>\n",
       "      <td>Dog</td>\n",
       "      <td>1</td>\n",
       "      <td>Mixed Breed</td>\n",
       "      <td>Male</td>\n",
       "      <td>Brown</td>\n",
       "      <td>White</td>\n",
       "      <td>Medium</td>\n",
       "      <td>Medium</td>\n",
       "      <td>Yes</td>\n",
       "      <td>No</td>\n",
       "      <td>Healthy</td>\n",
       "      <td>0</td>\n",
       "      <td>7</td>\n",
       "      <td>Yes</td>\n",
       "    </tr>\n",
       "    <tr>\n",
       "      <th>3</th>\n",
       "      <td>Dog</td>\n",
       "      <td>4</td>\n",
       "      <td>Mixed Breed</td>\n",
       "      <td>Female</td>\n",
       "      <td>Black</td>\n",
       "      <td>Brown</td>\n",
       "      <td>Medium</td>\n",
       "      <td>Short</td>\n",
       "      <td>Yes</td>\n",
       "      <td>No</td>\n",
       "      <td>Healthy</td>\n",
       "      <td>150</td>\n",
       "      <td>8</td>\n",
       "      <td>Yes</td>\n",
       "    </tr>\n",
       "    <tr>\n",
       "      <th>4</th>\n",
       "      <td>Dog</td>\n",
       "      <td>1</td>\n",
       "      <td>Mixed Breed</td>\n",
       "      <td>Male</td>\n",
       "      <td>Black</td>\n",
       "      <td>No Color</td>\n",
       "      <td>Medium</td>\n",
       "      <td>Short</td>\n",
       "      <td>No</td>\n",
       "      <td>No</td>\n",
       "      <td>Healthy</td>\n",
       "      <td>0</td>\n",
       "      <td>3</td>\n",
       "      <td>Yes</td>\n",
       "    </tr>\n",
       "    <tr>\n",
       "      <th>...</th>\n",
       "      <td>...</td>\n",
       "      <td>...</td>\n",
       "      <td>...</td>\n",
       "      <td>...</td>\n",
       "      <td>...</td>\n",
       "      <td>...</td>\n",
       "      <td>...</td>\n",
       "      <td>...</td>\n",
       "      <td>...</td>\n",
       "      <td>...</td>\n",
       "      <td>...</td>\n",
       "      <td>...</td>\n",
       "      <td>...</td>\n",
       "      <td>...</td>\n",
       "    </tr>\n",
       "    <tr>\n",
       "      <th>11532</th>\n",
       "      <td>Dog</td>\n",
       "      <td>24</td>\n",
       "      <td>Poodle</td>\n",
       "      <td>Male</td>\n",
       "      <td>Brown</td>\n",
       "      <td>Golden</td>\n",
       "      <td>Medium</td>\n",
       "      <td>Medium</td>\n",
       "      <td>Not Sure</td>\n",
       "      <td>No</td>\n",
       "      <td>Healthy</td>\n",
       "      <td>0</td>\n",
       "      <td>0</td>\n",
       "      <td>No</td>\n",
       "    </tr>\n",
       "    <tr>\n",
       "      <th>11533</th>\n",
       "      <td>Cat</td>\n",
       "      <td>1</td>\n",
       "      <td>Domestic Short Hair</td>\n",
       "      <td>Female</td>\n",
       "      <td>Cream</td>\n",
       "      <td>Gray</td>\n",
       "      <td>Medium</td>\n",
       "      <td>Short</td>\n",
       "      <td>No</td>\n",
       "      <td>No</td>\n",
       "      <td>Healthy</td>\n",
       "      <td>0</td>\n",
       "      <td>1</td>\n",
       "      <td>Yes</td>\n",
       "    </tr>\n",
       "    <tr>\n",
       "      <th>11534</th>\n",
       "      <td>Dog</td>\n",
       "      <td>6</td>\n",
       "      <td>Schnauzer</td>\n",
       "      <td>Female</td>\n",
       "      <td>Black</td>\n",
       "      <td>White</td>\n",
       "      <td>Small</td>\n",
       "      <td>Long</td>\n",
       "      <td>Yes</td>\n",
       "      <td>No</td>\n",
       "      <td>Healthy</td>\n",
       "      <td>0</td>\n",
       "      <td>1</td>\n",
       "      <td>Yes</td>\n",
       "    </tr>\n",
       "    <tr>\n",
       "      <th>11535</th>\n",
       "      <td>Cat</td>\n",
       "      <td>9</td>\n",
       "      <td>Domestic Short Hair</td>\n",
       "      <td>Female</td>\n",
       "      <td>Yellow</td>\n",
       "      <td>White</td>\n",
       "      <td>Small</td>\n",
       "      <td>Short</td>\n",
       "      <td>Yes</td>\n",
       "      <td>Yes</td>\n",
       "      <td>Healthy</td>\n",
       "      <td>0</td>\n",
       "      <td>3</td>\n",
       "      <td>No</td>\n",
       "    </tr>\n",
       "    <tr>\n",
       "      <th>11536</th>\n",
       "      <td>Dog</td>\n",
       "      <td>1</td>\n",
       "      <td>Mixed Breed</td>\n",
       "      <td>Male</td>\n",
       "      <td>Brown</td>\n",
       "      <td>No Color</td>\n",
       "      <td>Medium</td>\n",
       "      <td>Short</td>\n",
       "      <td>No</td>\n",
       "      <td>No</td>\n",
       "      <td>Healthy</td>\n",
       "      <td>0</td>\n",
       "      <td>1</td>\n",
       "      <td>Yes</td>\n",
       "    </tr>\n",
       "  </tbody>\n",
       "</table>\n",
       "<p>11537 rows × 14 columns</p>\n",
       "</div>"
      ],
      "text/plain": [
       "      Type  Age                Breed1  Gender  Color1    Color2 MaturitySize  \\\n",
       "0      Cat    3                 Tabby    Male   Black     White        Small   \n",
       "1      Cat    1  Domestic Medium Hair    Male   Black     Brown       Medium   \n",
       "2      Dog    1           Mixed Breed    Male   Brown     White       Medium   \n",
       "3      Dog    4           Mixed Breed  Female   Black     Brown       Medium   \n",
       "4      Dog    1           Mixed Breed    Male   Black  No Color       Medium   \n",
       "...    ...  ...                   ...     ...     ...       ...          ...   \n",
       "11532  Dog   24                Poodle    Male   Brown    Golden       Medium   \n",
       "11533  Cat    1   Domestic Short Hair  Female   Cream      Gray       Medium   \n",
       "11534  Dog    6             Schnauzer  Female   Black     White        Small   \n",
       "11535  Cat    9   Domestic Short Hair  Female  Yellow     White        Small   \n",
       "11536  Dog    1           Mixed Breed    Male   Brown  No Color       Medium   \n",
       "\n",
       "      FurLength Vaccinated Sterilized   Health  Fee  PhotoAmt Adopted  \n",
       "0         Short         No         No  Healthy  100         1     Yes  \n",
       "1        Medium   Not Sure   Not Sure  Healthy    0         2     Yes  \n",
       "2        Medium        Yes         No  Healthy    0         7     Yes  \n",
       "3         Short        Yes         No  Healthy  150         8     Yes  \n",
       "4         Short         No         No  Healthy    0         3     Yes  \n",
       "...         ...        ...        ...      ...  ...       ...     ...  \n",
       "11532    Medium   Not Sure         No  Healthy    0         0      No  \n",
       "11533     Short         No         No  Healthy    0         1     Yes  \n",
       "11534      Long        Yes         No  Healthy    0         1     Yes  \n",
       "11535     Short        Yes        Yes  Healthy    0         3      No  \n",
       "11536     Short         No         No  Healthy    0         1     Yes  \n",
       "\n",
       "[11537 rows x 14 columns]"
      ]
     },
     "execution_count": 3,
     "metadata": {},
     "output_type": "execute_result"
    }
   ],
   "source": [
    "data_url = \"gs://cloud-samples-data/ai-platform-unified/datasets/tabular/petfinder-tabular-classification.csv\"\n",
    "df = pd.read_csv(data_url)\n",
    "df"
   ]
  },
  {
   "cell_type": "markdown",
   "metadata": {
    "id": "QhcxJ_5O5fBY"
   },
   "source": [
    "## Exploratory data analysis (EDA)"
   ]
  },
  {
   "cell_type": "code",
   "execution_count": 4,
   "metadata": {
    "colab": {
     "base_uri": "https://localhost:8080/"
    },
    "id": "qQ4HomKc5pCC",
    "outputId": "75b58cae-dc6d-4501-bc99-158b8f61abe4"
   },
   "outputs": [
    {
     "name": "stdout",
     "output_type": "stream",
     "text": [
      "  Type  Age                Breed1  Gender Color1    Color2 MaturitySize  \\\n",
      "0  Cat    3                 Tabby    Male  Black     White        Small   \n",
      "1  Cat    1  Domestic Medium Hair    Male  Black     Brown       Medium   \n",
      "2  Dog    1           Mixed Breed    Male  Brown     White       Medium   \n",
      "3  Dog    4           Mixed Breed  Female  Black     Brown       Medium   \n",
      "4  Dog    1           Mixed Breed    Male  Black  No Color       Medium   \n",
      "\n",
      "  FurLength Vaccinated Sterilized   Health  Fee  PhotoAmt Adopted  \n",
      "0     Short         No         No  Healthy  100         1     Yes  \n",
      "1    Medium   Not Sure   Not Sure  Healthy    0         2     Yes  \n",
      "2    Medium        Yes         No  Healthy    0         7     Yes  \n",
      "3     Short        Yes         No  Healthy  150         8     Yes  \n",
      "4     Short         No         No  Healthy    0         3     Yes  \n",
      "*****************************************************************************************\n",
      "                Age           Fee      PhotoAmt\n",
      "count  11537.000000  11537.000000  11537.000000\n",
      "mean      11.743434     23.957268      3.610211\n",
      "std       19.324221     80.024226      3.145872\n",
      "min        0.000000      0.000000      0.000000\n",
      "25%        2.000000      0.000000      2.000000\n",
      "50%        4.000000      0.000000      3.000000\n",
      "75%       12.000000      0.000000      5.000000\n",
      "max      255.000000   2000.000000     30.000000\n",
      "*****************************************************************************************\n",
      "Type            object\n",
      "Age              int64\n",
      "Breed1          object\n",
      "Gender          object\n",
      "Color1          object\n",
      "Color2          object\n",
      "MaturitySize    object\n",
      "FurLength       object\n",
      "Vaccinated      object\n",
      "Sterilized      object\n",
      "Health          object\n",
      "Fee              int64\n",
      "PhotoAmt         int64\n",
      "Adopted         object\n",
      "dtype: object\n",
      "*****************************************************************************************\n",
      "(11537, 14)\n",
      "*****************************************************************************************\n",
      "<bound method DataFrame.info of       Type  Age                Breed1  Gender  Color1    Color2 MaturitySize  \\\n",
      "0      Cat    3                 Tabby    Male   Black     White        Small   \n",
      "1      Cat    1  Domestic Medium Hair    Male   Black     Brown       Medium   \n",
      "2      Dog    1           Mixed Breed    Male   Brown     White       Medium   \n",
      "3      Dog    4           Mixed Breed  Female   Black     Brown       Medium   \n",
      "4      Dog    1           Mixed Breed    Male   Black  No Color       Medium   \n",
      "...    ...  ...                   ...     ...     ...       ...          ...   \n",
      "11532  Dog   24                Poodle    Male   Brown    Golden       Medium   \n",
      "11533  Cat    1   Domestic Short Hair  Female   Cream      Gray       Medium   \n",
      "11534  Dog    6             Schnauzer  Female   Black     White        Small   \n",
      "11535  Cat    9   Domestic Short Hair  Female  Yellow     White        Small   \n",
      "11536  Dog    1           Mixed Breed    Male   Brown  No Color       Medium   \n",
      "\n",
      "      FurLength Vaccinated Sterilized   Health  Fee  PhotoAmt Adopted  \n",
      "0         Short         No         No  Healthy  100         1     Yes  \n",
      "1        Medium   Not Sure   Not Sure  Healthy    0         2     Yes  \n",
      "2        Medium        Yes         No  Healthy    0         7     Yes  \n",
      "3         Short        Yes         No  Healthy  150         8     Yes  \n",
      "4         Short         No         No  Healthy    0         3     Yes  \n",
      "...         ...        ...        ...      ...  ...       ...     ...  \n",
      "11532    Medium   Not Sure         No  Healthy    0         0      No  \n",
      "11533     Short         No         No  Healthy    0         1     Yes  \n",
      "11534      Long        Yes         No  Healthy    0         1     Yes  \n",
      "11535     Short        Yes        Yes  Healthy    0         3      No  \n",
      "11536     Short         No         No  Healthy    0         1     Yes  \n",
      "\n",
      "[11537 rows x 14 columns]>\n"
     ]
    }
   ],
   "source": [
    "print(df.head())\n",
    "print(\"*****************************************************************************************\")\n",
    "# Get summary statistics of numerical columns\n",
    "print(df.describe())\n",
    "print(\"*****************************************************************************************\")\n",
    "# Check the data types of columns\n",
    "print(df.dtypes)\n",
    "print(\"*****************************************************************************************\")\n",
    "# Check the dimensions of the DataFrame\n",
    "print(df.shape)\n",
    "print(\"*****************************************************************************************\")\n",
    "print(df.info)\n"
   ]
  },
  {
   "cell_type": "markdown",
   "metadata": {
    "id": "CIANTsIO8lVA"
   },
   "source": [
    "Looking at the data, I need to preform some pre-processing:\n",
    "*   Encoding the bread, gender, color1, color2, maturaty size, FurLength, Vaccinated, Sterilized,   Health.\n",
    "*   Remove the outliers then normalise the Age, PhotoAmt.\n",
    "*   Handling missing data like (not sure for vacinated, sterilized)\n",
    "Color2: is dropped because it is mostly empty and given the fact there is already color1 I just dropped it.\n",
    "\n",
    "\n",
    "\n",
    "\n",
    "\n",
    "\n"
   ]
  },
  {
   "cell_type": "code",
   "execution_count": 5,
   "metadata": {
    "colab": {
     "base_uri": "https://localhost:8080/",
     "height": 998
    },
    "id": "b7B-6t9uI0hC",
    "outputId": "01faad4f-b9bc-499a-c870-f0fe7a2ce350"
   },
   "outputs": [
    {
     "name": "stdout",
     "output_type": "stream",
     "text": [
      "               Age       Fee  PhotoAmt\n",
      "Age       1.000000  0.086637 -0.063674\n",
      "Fee       0.086637  1.000000  0.019387\n",
      "PhotoAmt -0.063674  0.019387  1.000000\n"
     ]
    },
    {
     "data": {
      "text/plain": [
       "<AxesSubplot:>"
      ]
     },
     "execution_count": 5,
     "metadata": {},
     "output_type": "execute_result"
    },
    {
     "data": {
      "image/png": "[encoded data removed]",
      "text/plain": [
       "<Figure size 720x720 with 5 Axes>"
      ]
     },
     "metadata": {
      "needs_background": "light"
     },
     "output_type": "display_data"
    }
   ],
   "source": [
    "# Generate histograms for numerical columns\n",
    "df.hist(figsize=(10, 10))\n",
    "\n",
    "# Create box plots to visualize distributions and detect outliers\n",
    "df.boxplot(figsize=(10, 6))\n",
    "\n",
    "# Calculate correlations between columns\n",
    "correlation_matrix = df.corr()\n",
    "print(correlation_matrix)\n",
    "\n",
    "# Visualize correlations using a heatmap\n",
    "import seaborn as sns\n",
    "sns.heatmap(correlation_matrix, annot=True)\n"
   ]
  },
  {
   "cell_type": "code",
   "execution_count": 6,
   "metadata": {
    "colab": {
     "base_uri": "https://localhost:8080/",
     "height": 319
    },
    "id": "AlZkm9h9JGm3",
    "outputId": "c4bc48d2-9e42-4594-e5be-62ad4da0a707"
   },
   "outputs": [
    {
     "data": {
      "image/png": "[encoded data removed]",
      "text/plain": [
       "<Figure size 1440x432 with 1 Axes>"
      ]
     },
     "metadata": {
      "needs_background": "light"
     },
     "output_type": "display_data"
    }
   ],
   "source": [
    "# Count the occurrences of each category in a categorical column\n",
    "# Obviously imbalanced dataset this will be handled with SMOTE\n",
    "breed_counts = df['Adopted'].value_counts()\n",
    "\n",
    "# Create a bar plot with rotated x-axis labels\n",
    "plt.figure(figsize=(20, 6))  # Adjust the figure size as needed\n",
    "ax = breed_counts.plot(kind='bar')\n",
    "ax.set_xticklabels(ax.get_xticklabels(), rotation=90)  # Rotate x-axis labels\n",
    "plt.tight_layout()  # To prevent label cutoffs\n",
    "plt.show()\n",
    "\n"
   ]
  },
  {
   "cell_type": "code",
   "execution_count": 7,
   "metadata": {
    "colab": {
     "base_uri": "https://localhost:8080/"
    },
    "id": "d6tAsEZeoS5Y",
    "outputId": "3f04b936-3e11-4cc6-c914-6465b3d2c281"
   },
   "outputs": [
    {
     "name": "stdout",
     "output_type": "stream",
     "text": [
      "Skewness: 2.894013721756597\n"
     ]
    }
   ],
   "source": [
    "skewness = df['PhotoAmt'].skew()\n",
    "print(\"Skewness:\", skewness)\n"
   ]
  },
  {
   "cell_type": "code",
   "execution_count": 8,
   "metadata": {
    "colab": {
     "base_uri": "https://localhost:8080/",
     "height": 472
    },
    "id": "giD8DtZYolG9",
    "outputId": "e9f75a12-4c58-4dbc-8948-35f363cad820"
   },
   "outputs": [
    {
     "data": {
      "image/png": "[encoded data removed]",
      "text/plain": [
       "<Figure size 432x288 with 1 Axes>"
      ]
     },
     "metadata": {
      "needs_background": "light"
     },
     "output_type": "display_data"
    }
   ],
   "source": [
    "import seaborn as sns\n",
    "\n",
    "sns.kdeplot(df['PhotoAmt'])\n",
    "plt.xlabel('PhotoAmt')\n",
    "plt.ylabel('Density')\n",
    "plt.title('Density Plot of PhotoAmt')\n",
    "plt.show()\n"
   ]
  },
  {
   "cell_type": "code",
   "execution_count": 9,
   "metadata": {
    "colab": {
     "base_uri": "https://localhost:8080/",
     "height": 627
    },
    "id": "F3IDEJWSF6Rx",
    "outputId": "ebe593f8-cdb4-4872-dc6a-5aa7f18cec91"
   },
   "outputs": [
    {
     "data": {
      "text/html": [
       "<div>\n",
       "<style scoped>\n",
       "    .dataframe tbody tr th:only-of-type {\n",
       "        vertical-align: middle;\n",
       "    }\n",
       "\n",
       "    .dataframe tbody tr th {\n",
       "        vertical-align: top;\n",
       "    }\n",
       "\n",
       "    .dataframe thead th {\n",
       "        text-align: right;\n",
       "    }\n",
       "</style>\n",
       "<table border=\"1\" class=\"dataframe\">\n",
       "  <thead>\n",
       "    <tr style=\"text-align: right;\">\n",
       "      <th></th>\n",
       "      <th>Type</th>\n",
       "      <th>Age</th>\n",
       "      <th>Breed1</th>\n",
       "      <th>Gender</th>\n",
       "      <th>Color1</th>\n",
       "      <th>Color2</th>\n",
       "      <th>MaturitySize</th>\n",
       "      <th>FurLength</th>\n",
       "      <th>Vaccinated</th>\n",
       "      <th>Sterilized</th>\n",
       "      <th>Health</th>\n",
       "      <th>Fee</th>\n",
       "      <th>PhotoAmt</th>\n",
       "      <th>Adopted</th>\n",
       "    </tr>\n",
       "  </thead>\n",
       "  <tbody>\n",
       "    <tr>\n",
       "      <th>0</th>\n",
       "      <td>Cat</td>\n",
       "      <td>3</td>\n",
       "      <td>Tabby</td>\n",
       "      <td>Male</td>\n",
       "      <td>Black</td>\n",
       "      <td>White</td>\n",
       "      <td>Small</td>\n",
       "      <td>Short</td>\n",
       "      <td>No</td>\n",
       "      <td>No</td>\n",
       "      <td>Healthy</td>\n",
       "      <td>100</td>\n",
       "      <td>1</td>\n",
       "      <td>Yes</td>\n",
       "    </tr>\n",
       "    <tr>\n",
       "      <th>1</th>\n",
       "      <td>Cat</td>\n",
       "      <td>1</td>\n",
       "      <td>Domestic Medium Hair</td>\n",
       "      <td>Male</td>\n",
       "      <td>Black</td>\n",
       "      <td>Brown</td>\n",
       "      <td>Medium</td>\n",
       "      <td>Medium</td>\n",
       "      <td>Not Sure</td>\n",
       "      <td>Not Sure</td>\n",
       "      <td>Healthy</td>\n",
       "      <td>0</td>\n",
       "      <td>2</td>\n",
       "      <td>Yes</td>\n",
       "    </tr>\n",
       "    <tr>\n",
       "      <th>2</th>\n",
       "      <td>Dog</td>\n",
       "      <td>1</td>\n",
       "      <td>Mixed Breed</td>\n",
       "      <td>Male</td>\n",
       "      <td>Brown</td>\n",
       "      <td>White</td>\n",
       "      <td>Medium</td>\n",
       "      <td>Medium</td>\n",
       "      <td>Yes</td>\n",
       "      <td>No</td>\n",
       "      <td>Healthy</td>\n",
       "      <td>0</td>\n",
       "      <td>7</td>\n",
       "      <td>Yes</td>\n",
       "    </tr>\n",
       "    <tr>\n",
       "      <th>3</th>\n",
       "      <td>Dog</td>\n",
       "      <td>4</td>\n",
       "      <td>Mixed Breed</td>\n",
       "      <td>Female</td>\n",
       "      <td>Black</td>\n",
       "      <td>Brown</td>\n",
       "      <td>Medium</td>\n",
       "      <td>Short</td>\n",
       "      <td>Yes</td>\n",
       "      <td>No</td>\n",
       "      <td>Healthy</td>\n",
       "      <td>150</td>\n",
       "      <td>8</td>\n",
       "      <td>Yes</td>\n",
       "    </tr>\n",
       "    <tr>\n",
       "      <th>4</th>\n",
       "      <td>Dog</td>\n",
       "      <td>1</td>\n",
       "      <td>Mixed Breed</td>\n",
       "      <td>Male</td>\n",
       "      <td>Black</td>\n",
       "      <td>No Color</td>\n",
       "      <td>Medium</td>\n",
       "      <td>Short</td>\n",
       "      <td>No</td>\n",
       "      <td>No</td>\n",
       "      <td>Healthy</td>\n",
       "      <td>0</td>\n",
       "      <td>3</td>\n",
       "      <td>Yes</td>\n",
       "    </tr>\n",
       "    <tr>\n",
       "      <th>...</th>\n",
       "      <td>...</td>\n",
       "      <td>...</td>\n",
       "      <td>...</td>\n",
       "      <td>...</td>\n",
       "      <td>...</td>\n",
       "      <td>...</td>\n",
       "      <td>...</td>\n",
       "      <td>...</td>\n",
       "      <td>...</td>\n",
       "      <td>...</td>\n",
       "      <td>...</td>\n",
       "      <td>...</td>\n",
       "      <td>...</td>\n",
       "      <td>...</td>\n",
       "    </tr>\n",
       "    <tr>\n",
       "      <th>11532</th>\n",
       "      <td>Dog</td>\n",
       "      <td>24</td>\n",
       "      <td>Poodle</td>\n",
       "      <td>Male</td>\n",
       "      <td>Brown</td>\n",
       "      <td>Golden</td>\n",
       "      <td>Medium</td>\n",
       "      <td>Medium</td>\n",
       "      <td>Not Sure</td>\n",
       "      <td>No</td>\n",
       "      <td>Healthy</td>\n",
       "      <td>0</td>\n",
       "      <td>0</td>\n",
       "      <td>No</td>\n",
       "    </tr>\n",
       "    <tr>\n",
       "      <th>11533</th>\n",
       "      <td>Cat</td>\n",
       "      <td>1</td>\n",
       "      <td>Domestic Short Hair</td>\n",
       "      <td>Female</td>\n",
       "      <td>Cream</td>\n",
       "      <td>Gray</td>\n",
       "      <td>Medium</td>\n",
       "      <td>Short</td>\n",
       "      <td>No</td>\n",
       "      <td>No</td>\n",
       "      <td>Healthy</td>\n",
       "      <td>0</td>\n",
       "      <td>1</td>\n",
       "      <td>Yes</td>\n",
       "    </tr>\n",
       "    <tr>\n",
       "      <th>11534</th>\n",
       "      <td>Dog</td>\n",
       "      <td>6</td>\n",
       "      <td>Schnauzer</td>\n",
       "      <td>Female</td>\n",
       "      <td>Black</td>\n",
       "      <td>White</td>\n",
       "      <td>Small</td>\n",
       "      <td>Long</td>\n",
       "      <td>Yes</td>\n",
       "      <td>No</td>\n",
       "      <td>Healthy</td>\n",
       "      <td>0</td>\n",
       "      <td>1</td>\n",
       "      <td>Yes</td>\n",
       "    </tr>\n",
       "    <tr>\n",
       "      <th>11535</th>\n",
       "      <td>Cat</td>\n",
       "      <td>9</td>\n",
       "      <td>Domestic Short Hair</td>\n",
       "      <td>Female</td>\n",
       "      <td>Yellow</td>\n",
       "      <td>White</td>\n",
       "      <td>Small</td>\n",
       "      <td>Short</td>\n",
       "      <td>Yes</td>\n",
       "      <td>Yes</td>\n",
       "      <td>Healthy</td>\n",
       "      <td>0</td>\n",
       "      <td>3</td>\n",
       "      <td>No</td>\n",
       "    </tr>\n",
       "    <tr>\n",
       "      <th>11536</th>\n",
       "      <td>Dog</td>\n",
       "      <td>1</td>\n",
       "      <td>Mixed Breed</td>\n",
       "      <td>Male</td>\n",
       "      <td>Brown</td>\n",
       "      <td>No Color</td>\n",
       "      <td>Medium</td>\n",
       "      <td>Short</td>\n",
       "      <td>No</td>\n",
       "      <td>No</td>\n",
       "      <td>Healthy</td>\n",
       "      <td>0</td>\n",
       "      <td>1</td>\n",
       "      <td>Yes</td>\n",
       "    </tr>\n",
       "  </tbody>\n",
       "</table>\n",
       "<p>11537 rows × 14 columns</p>\n",
       "</div>"
      ],
      "text/plain": [
       "      Type  Age                Breed1  Gender  Color1    Color2 MaturitySize  \\\n",
       "0      Cat    3                 Tabby    Male   Black     White        Small   \n",
       "1      Cat    1  Domestic Medium Hair    Male   Black     Brown       Medium   \n",
       "2      Dog    1           Mixed Breed    Male   Brown     White       Medium   \n",
       "3      Dog    4           Mixed Breed  Female   Black     Brown       Medium   \n",
       "4      Dog    1           Mixed Breed    Male   Black  No Color       Medium   \n",
       "...    ...  ...                   ...     ...     ...       ...          ...   \n",
       "11532  Dog   24                Poodle    Male   Brown    Golden       Medium   \n",
       "11533  Cat    1   Domestic Short Hair  Female   Cream      Gray       Medium   \n",
       "11534  Dog    6             Schnauzer  Female   Black     White        Small   \n",
       "11535  Cat    9   Domestic Short Hair  Female  Yellow     White        Small   \n",
       "11536  Dog    1           Mixed Breed    Male   Brown  No Color       Medium   \n",
       "\n",
       "      FurLength Vaccinated Sterilized   Health  Fee  PhotoAmt Adopted  \n",
       "0         Short         No         No  Healthy  100         1     Yes  \n",
       "1        Medium   Not Sure   Not Sure  Healthy    0         2     Yes  \n",
       "2        Medium        Yes         No  Healthy    0         7     Yes  \n",
       "3         Short        Yes         No  Healthy  150         8     Yes  \n",
       "4         Short         No         No  Healthy    0         3     Yes  \n",
       "...         ...        ...        ...      ...  ...       ...     ...  \n",
       "11532    Medium   Not Sure         No  Healthy    0         0      No  \n",
       "11533     Short         No         No  Healthy    0         1     Yes  \n",
       "11534      Long        Yes         No  Healthy    0         1     Yes  \n",
       "11535     Short        Yes        Yes  Healthy    0         3      No  \n",
       "11536     Short         No         No  Healthy    0         1     Yes  \n",
       "\n",
       "[11537 rows x 14 columns]"
      ]
     },
     "execution_count": 9,
     "metadata": {},
     "output_type": "execute_result"
    }
   ],
   "source": [
    "df"
   ]
  },
  {
   "cell_type": "markdown",
   "metadata": {},
   "source": [
    "## Step 2: Split the dataset into 3 splits: train, validation and test with ratios of 60 (train) / 20 (validation) / 20 (test)"
   ]
  },
  {
   "cell_type": "code",
   "execution_count": 10,
   "metadata": {
    "colab": {
     "base_uri": "https://localhost:8080/"
    },
    "id": "T_diB6pV36dY",
    "outputId": "6cfa9938-5a68-43d8-f879-ced668c327a0"
   },
   "outputs": [
    {
     "name": "stdout",
     "output_type": "stream",
     "text": [
      "10.60718789407314 17.79262540329333\n",
      "3.7696289905090596 3.3005530611492055\n"
     ]
    },
    {
     "name": "stderr",
     "output_type": "stream",
     "text": [
      "/Users/shahdghorsi/opt/anaconda3/lib/python3.8/site-packages/pandas/core/frame.py:4308: SettingWithCopyWarning: \n",
      "A value is trying to be set on a copy of a slice from a DataFrame\n",
      "\n",
      "See the caveats in the documentation: https://pandas.pydata.org/pandas-docs/stable/user_guide/indexing.html#returning-a-view-versus-a-copy\n",
      "  return super().drop(\n",
      "/Users/shahdghorsi/Desktop/virgin_media/data_processing.py:16: SettingWithCopyWarning: \n",
      "A value is trying to be set on a copy of a slice from a DataFrame.\n",
      "Try using .loc[row_indexer,col_indexer] = value instead\n",
      "\n",
      "See the caveats in the documentation: https://pandas.pydata.org/pandas-docs/stable/user_guide/indexing.html#returning-a-view-versus-a-copy\n",
      "  data_frame[\"Adopted\"] = label_encoder.fit_transform(data_frame[\"Adopted\"])\n"
     ]
    }
   ],
   "source": [
    "from data_processing import preprocess_csv\n",
    "\n",
    "#preprocess_csv is a custom function that can be found in the data_processing.py file\n",
    "features, target, encoded_df = preprocess_csv(df)\n",
    "X_train, X_test, y_train, y_test = train_test_split(encoded_df[features], target, test_size=0.2, random_state=42)\n",
    "X_train, X_val, y_train, y_val = train_test_split(X_train, y_train, test_size=0.25, random_state=42)"
   ]
  },
  {
   "cell_type": "code",
   "execution_count": 11,
   "metadata": {
    "id": "oGmW7DwRa9Qn"
   },
   "outputs": [],
   "source": [
    "# Perform SMOTE resampling on the training set only\n",
    "smote = SMOTE()\n",
    "X_train_resampled, y_train_resampled = smote.fit_resample(X_train, y_train)\n"
   ]
  },
  {
   "cell_type": "code",
   "execution_count": 12,
   "metadata": {
    "colab": {
     "base_uri": "https://localhost:8080/",
     "height": 472
    },
    "id": "N9lOjTKfb8HI",
    "outputId": "a7d4bd70-2707-4126-e2f5-66f57af1576f"
   },
   "outputs": [
    {
     "data": {
      "image/png": "[encoded data removed]",
      "text/plain": [
       "<Figure size 432x288 with 1 Axes>"
      ]
     },
     "metadata": {
      "needs_background": "light"
     },
     "output_type": "display_data"
    }
   ],
   "source": [
    "# Create a countplot to visualize the class distribution\n",
    "sns.countplot(x=y_train_resampled)\n",
    "plt.xlabel(\"Adopted\")\n",
    "plt.ylabel(\"Count\")\n",
    "plt.title(\"Class Distribution\")\n",
    "plt.show()\n"
   ]
  },
  {
   "cell_type": "markdown",
   "metadata": {},
   "source": [
    "## 4. Train an ML model using XGBoost  model with early stopping using the resampled training set"
   ]
  },
  {
   "cell_type": "code",
   "execution_count": 13,
   "metadata": {
    "colab": {
     "base_uri": "https://localhost:8080/"
    },
    "id": "Xq0woQZU4Dyx",
    "outputId": "7557caa7-1829-4774-edd3-392b57f67139"
   },
   "outputs": [
    {
     "name": "stdout",
     "output_type": "stream",
     "text": [
      "[0]\tvalidation-logloss:0.62472\n",
      "[1]\tvalidation-logloss:0.58947\n",
      "[2]\tvalidation-logloss:0.56807\n",
      "[3]\tvalidation-logloss:0.55363\n",
      "[4]\tvalidation-logloss:0.53987\n",
      "[5]\tvalidation-logloss:0.53141\n",
      "[6]\tvalidation-logloss:0.52866\n",
      "[7]\tvalidation-logloss:0.52623\n",
      "[8]\tvalidation-logloss:0.51835\n",
      "[9]\tvalidation-logloss:0.51554\n",
      "[10]\tvalidation-logloss:0.51365\n",
      "[11]\tvalidation-logloss:0.51163\n",
      "[12]\tvalidation-logloss:0.51071\n",
      "[13]\tvalidation-logloss:0.50851\n",
      "[14]\tvalidation-logloss:0.50741\n",
      "[15]\tvalidation-logloss:0.50238\n",
      "[16]\tvalidation-logloss:0.50194\n",
      "[17]\tvalidation-logloss:0.50169\n",
      "[18]\tvalidation-logloss:0.50261\n",
      "[19]\tvalidation-logloss:0.50046\n",
      "[20]\tvalidation-logloss:0.49962\n",
      "[21]\tvalidation-logloss:0.49849\n",
      "[22]\tvalidation-logloss:0.49851\n",
      "[23]\tvalidation-logloss:0.49843\n",
      "[24]\tvalidation-logloss:0.49715\n",
      "[25]\tvalidation-logloss:0.49714\n",
      "[26]\tvalidation-logloss:0.49857\n",
      "[27]\tvalidation-logloss:0.49821\n",
      "[28]\tvalidation-logloss:0.49774\n",
      "[29]\tvalidation-logloss:0.49806\n",
      "[30]\tvalidation-logloss:0.49798\n",
      "[31]\tvalidation-logloss:0.49912\n",
      "[32]\tvalidation-logloss:0.49911\n",
      "[33]\tvalidation-logloss:0.49894\n",
      "[34]\tvalidation-logloss:0.49836\n"
     ]
    }
   ],
   "source": [
    "dtrain = xgb.DMatrix(X_train_resampled, label=y_train_resampled)\n",
    "dval = xgb.DMatrix(X_val, label=y_val)\n",
    "\n",
    "\n",
    "params = {\n",
    "    \"objective\": \"binary:logistic\",\n",
    "    \"eval_metric\": \"logloss\",\n",
    "    \"eta\": 0.3,\n",
    "    \"max_depth\": 7\n",
    "}\n",
    "\n",
    "model = xgb.train(params, dtrain, num_boost_round=1000, early_stopping_rounds=10, evals=[(dval, \"validation\")])\n",
    "\n"
   ]
  },
  {
   "cell_type": "code",
   "execution_count": 14,
   "metadata": {
    "id": "jBTjQSyp4Ko9"
   },
   "outputs": [],
   "source": [
    "# Evaluate the model on the test set\n",
    "dtest = xgb.DMatrix(X_test)\n",
    "y_pred = model.predict(dtest)\n",
    "y_pred_binary = [1 if p >= 0.5 else 0 for p in y_pred]\n",
    "\n",
    "f1 = f1_score(y_test, y_pred_binary)\n",
    "accuracy = accuracy_score(y_test, y_pred_binary)\n",
    "recall = recall_score(y_test, y_pred_binary)\n"
   ]
  },
  {
   "cell_type": "code",
   "execution_count": 15,
   "metadata": {
    "colab": {
     "base_uri": "https://localhost:8080/"
    },
    "id": "Tq9N6jDoLs38",
    "outputId": "09ad3574-5465-4e22-bd27-25f003b572ee"
   },
   "outputs": [
    {
     "name": "stdout",
     "output_type": "stream",
     "text": [
      "F1 Score: 0.8348391760028911\n",
      "Accuracy: 0.7486248624862486\n",
      "Recall: 0.8486407053637032\n"
     ]
    }
   ],
   "source": [
    "# Logging the performance metrics\n",
    "print(\"F1 Score:\", f1)\n",
    "print(\"Accuracy:\", accuracy)\n",
    "print(\"Recall:\", recall)"
   ]
  },
  {
   "cell_type": "markdown",
   "metadata": {
    "id": "FDBm7UFreMH2"
   },
   "source": [
    "SMOTE:\n",
    "* F1 Score: 0.8310249307479225\n",
    "* Accuracy: 0.7436974789915967\n",
    "* Recall: 0.847457627118644\n",
    "\n",
    "Downsampling:\n",
    "* F1 Score: 0.7745173745173746\n",
    "* Accuracy: 0.6932773109243697\n",
    "* Recall: 0.7083333333333334\n",
    "\n",
    "Normalised age:\n",
    "* F1 Score: 0.8345575376005596\n",
    "* Accuracy: 0.7515756302521008\n",
    "* Recall: 0.8425141242937854\n",
    "\n",
    "Normalised Age and PhotoAmt:\n",
    "* F1 Score: 0.8386873920552678\n",
    "* Accuracy: 0.7547268907563025\n",
    "* Recall: 0.8573446327683616\n",
    "\n",
    "Dropped Fee:\n",
    "* F1 Score: 0.834257975034674\n",
    "* Accuracy: 0.7489495798319328\n",
    "* Recall: 0.8495762711864406\n",
    "\n",
    "Normalised Fee:\n",
    "* F1 Score: 0.8326983027364047\n",
    "* Accuracy: 0.7463235294117647\n",
    "* Recall: 0.8488700564971752\n",
    "\n",
    "Removed age outliers and normalized:\n",
    "* F1 Score: 0.8434752022511431\n",
    "* Accuracy: 0.7601078167115903\n",
    "* Recall: 0.8594982078853046\n",
    "\n",
    "Removed photAmt outliers and normalized\n",
    "* F1 Score: 0.8458806818181819\n",
    "* Accuracy: 0.7612761276127613\n",
    "* Recall: 0.8750918442321822\n",
    "\n",
    "\n",
    "\n",
    "\n"
   ]
  },
  {
   "cell_type": "code",
   "execution_count": 18,
   "metadata": {
    "id": "nZBh4mWwNFn1"
   },
   "outputs": [],
   "source": [
    "# Save the model\n",
    "model.save_model(\"artifacts/model.xgb\")\n"
   ]
  }
 ],
 "metadata": {
  "colab": {
   "provenance": []
  },
  "kernelspec": {
   "display_name": "Python 3",
   "language": "python",
   "name": "python3"
  },
  "language_info": {
   "codemirror_mode": {
    "name": "ipython",
    "version": 3
   },
   "file_extension": ".py",
   "mimetype": "text/x-python",
   "name": "python",
   "nbconvert_exporter": "python",
   "pygments_lexer": "ipython3",
   "version": "3.8.8"
  }
 },
 "nbformat": 4,
 "nbformat_minor": 1
}
